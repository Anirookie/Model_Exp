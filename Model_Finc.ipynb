{
  "cells": [
    {
      "cell_type": "markdown",
      "metadata": {
        "id": "view-in-github",
        "colab_type": "text"
      },
      "source": [
        "<a href=\"https://colab.research.google.com/github/Anirookie/Model_Exp/blob/main/Model_Finc.ipynb\" target=\"_parent\"><img src=\"https://colab.research.google.com/assets/colab-badge.svg\" alt=\"Open In Colab\"/></a>"
      ]
    },
    {
      "cell_type": "code",
      "execution_count": null,
      "metadata": {
        "id": "o9CLd--Kg-Bh"
      },
      "outputs": [],
      "source": [
        "import pandas as pd\n",
        "from sklearn.preprocessing import LabelEncoder, StandardScaler\n",
        "from sklearn.model_selection import train_test_split\n",
        "import torch\n",
        "from torch.utils.data import DataLoader, TensorDataset"
      ]
    },
    {
      "cell_type": "code",
      "execution_count": null,
      "metadata": {
        "id": "sVP3rzP0MmMl"
      },
      "outputs": [],
      "source": [
        "from transformers import BertTokenizer, BertModel,BertConfig"
      ]
    },
    {
      "cell_type": "code",
      "execution_count": null,
      "metadata": {
        "id": "56wMgGjghH-2"
      },
      "outputs": [],
      "source": [
        "# Load the new dataset\n",
        "df = pd.read_csv('dome.csv')"
      ]
    },
    {
      "cell_type": "code",
      "execution_count": null,
      "metadata": {
        "colab": {
          "base_uri": "https://localhost:8080/",
          "height": 206
        },
        "id": "6erYFmTinWJv",
        "outputId": "f544ac08-f97a-4e99-ae1e-90e4a7b922e7"
      },
      "outputs": [
        {
          "output_type": "execute_result",
          "data": {
            "text/plain": [
              "   Transaction ID        Date     Description  Amount     Category  \\\n",
              "0               1  2024-01-01  Salary Payment  3000.0       Income   \n",
              "1               2  2024-01-02     Coffee Shop    -5.5  Expenditure   \n",
              "2               3  2024-01-03  Stock Purchase -1500.0  Investments   \n",
              "3               4  2024-01-04    Rent Payment -1200.0  Expenditure   \n",
              "4               5  2024-01-05  Freelance Work   500.0       Income   \n",
              "\n",
              "       Subcategory  \n",
              "0           Salary  \n",
              "1  Food & Beverage  \n",
              "2           Stocks  \n",
              "3          Housing  \n",
              "4        Freelance  "
            ],
            "text/html": [
              "\n",
              "  <div id=\"df-0a502324-074b-4059-980c-8b65ec8578c7\" class=\"colab-df-container\">\n",
              "    <div>\n",
              "<style scoped>\n",
              "    .dataframe tbody tr th:only-of-type {\n",
              "        vertical-align: middle;\n",
              "    }\n",
              "\n",
              "    .dataframe tbody tr th {\n",
              "        vertical-align: top;\n",
              "    }\n",
              "\n",
              "    .dataframe thead th {\n",
              "        text-align: right;\n",
              "    }\n",
              "</style>\n",
              "<table border=\"1\" class=\"dataframe\">\n",
              "  <thead>\n",
              "    <tr style=\"text-align: right;\">\n",
              "      <th></th>\n",
              "      <th>Transaction ID</th>\n",
              "      <th>Date</th>\n",
              "      <th>Description</th>\n",
              "      <th>Amount</th>\n",
              "      <th>Category</th>\n",
              "      <th>Subcategory</th>\n",
              "    </tr>\n",
              "  </thead>\n",
              "  <tbody>\n",
              "    <tr>\n",
              "      <th>0</th>\n",
              "      <td>1</td>\n",
              "      <td>2024-01-01</td>\n",
              "      <td>Salary Payment</td>\n",
              "      <td>3000.0</td>\n",
              "      <td>Income</td>\n",
              "      <td>Salary</td>\n",
              "    </tr>\n",
              "    <tr>\n",
              "      <th>1</th>\n",
              "      <td>2</td>\n",
              "      <td>2024-01-02</td>\n",
              "      <td>Coffee Shop</td>\n",
              "      <td>-5.5</td>\n",
              "      <td>Expenditure</td>\n",
              "      <td>Food &amp; Beverage</td>\n",
              "    </tr>\n",
              "    <tr>\n",
              "      <th>2</th>\n",
              "      <td>3</td>\n",
              "      <td>2024-01-03</td>\n",
              "      <td>Stock Purchase</td>\n",
              "      <td>-1500.0</td>\n",
              "      <td>Investments</td>\n",
              "      <td>Stocks</td>\n",
              "    </tr>\n",
              "    <tr>\n",
              "      <th>3</th>\n",
              "      <td>4</td>\n",
              "      <td>2024-01-04</td>\n",
              "      <td>Rent Payment</td>\n",
              "      <td>-1200.0</td>\n",
              "      <td>Expenditure</td>\n",
              "      <td>Housing</td>\n",
              "    </tr>\n",
              "    <tr>\n",
              "      <th>4</th>\n",
              "      <td>5</td>\n",
              "      <td>2024-01-05</td>\n",
              "      <td>Freelance Work</td>\n",
              "      <td>500.0</td>\n",
              "      <td>Income</td>\n",
              "      <td>Freelance</td>\n",
              "    </tr>\n",
              "  </tbody>\n",
              "</table>\n",
              "</div>\n",
              "    <div class=\"colab-df-buttons\">\n",
              "\n",
              "  <div class=\"colab-df-container\">\n",
              "    <button class=\"colab-df-convert\" onclick=\"convertToInteractive('df-0a502324-074b-4059-980c-8b65ec8578c7')\"\n",
              "            title=\"Convert this dataframe to an interactive table.\"\n",
              "            style=\"display:none;\">\n",
              "\n",
              "  <svg xmlns=\"http://www.w3.org/2000/svg\" height=\"24px\" viewBox=\"0 -960 960 960\">\n",
              "    <path d=\"M120-120v-720h720v720H120Zm60-500h600v-160H180v160Zm220 220h160v-160H400v160Zm0 220h160v-160H400v160ZM180-400h160v-160H180v160Zm440 0h160v-160H620v160ZM180-180h160v-160H180v160Zm440 0h160v-160H620v160Z\"/>\n",
              "  </svg>\n",
              "    </button>\n",
              "\n",
              "  <style>\n",
              "    .colab-df-container {\n",
              "      display:flex;\n",
              "      gap: 12px;\n",
              "    }\n",
              "\n",
              "    .colab-df-convert {\n",
              "      background-color: #E8F0FE;\n",
              "      border: none;\n",
              "      border-radius: 50%;\n",
              "      cursor: pointer;\n",
              "      display: none;\n",
              "      fill: #1967D2;\n",
              "      height: 32px;\n",
              "      padding: 0 0 0 0;\n",
              "      width: 32px;\n",
              "    }\n",
              "\n",
              "    .colab-df-convert:hover {\n",
              "      background-color: #E2EBFA;\n",
              "      box-shadow: 0px 1px 2px rgba(60, 64, 67, 0.3), 0px 1px 3px 1px rgba(60, 64, 67, 0.15);\n",
              "      fill: #174EA6;\n",
              "    }\n",
              "\n",
              "    .colab-df-buttons div {\n",
              "      margin-bottom: 4px;\n",
              "    }\n",
              "\n",
              "    [theme=dark] .colab-df-convert {\n",
              "      background-color: #3B4455;\n",
              "      fill: #D2E3FC;\n",
              "    }\n",
              "\n",
              "    [theme=dark] .colab-df-convert:hover {\n",
              "      background-color: #434B5C;\n",
              "      box-shadow: 0px 1px 3px 1px rgba(0, 0, 0, 0.15);\n",
              "      filter: drop-shadow(0px 1px 2px rgba(0, 0, 0, 0.3));\n",
              "      fill: #FFFFFF;\n",
              "    }\n",
              "  </style>\n",
              "\n",
              "    <script>\n",
              "      const buttonEl =\n",
              "        document.querySelector('#df-0a502324-074b-4059-980c-8b65ec8578c7 button.colab-df-convert');\n",
              "      buttonEl.style.display =\n",
              "        google.colab.kernel.accessAllowed ? 'block' : 'none';\n",
              "\n",
              "      async function convertToInteractive(key) {\n",
              "        const element = document.querySelector('#df-0a502324-074b-4059-980c-8b65ec8578c7');\n",
              "        const dataTable =\n",
              "          await google.colab.kernel.invokeFunction('convertToInteractive',\n",
              "                                                    [key], {});\n",
              "        if (!dataTable) return;\n",
              "\n",
              "        const docLinkHtml = 'Like what you see? Visit the ' +\n",
              "          '<a target=\"_blank\" href=https://colab.research.google.com/notebooks/data_table.ipynb>data table notebook</a>'\n",
              "          + ' to learn more about interactive tables.';\n",
              "        element.innerHTML = '';\n",
              "        dataTable['output_type'] = 'display_data';\n",
              "        await google.colab.output.renderOutput(dataTable, element);\n",
              "        const docLink = document.createElement('div');\n",
              "        docLink.innerHTML = docLinkHtml;\n",
              "        element.appendChild(docLink);\n",
              "      }\n",
              "    </script>\n",
              "  </div>\n",
              "\n",
              "\n",
              "<div id=\"df-9e2161ff-b796-45c0-85cc-e6ceab038a2f\">\n",
              "  <button class=\"colab-df-quickchart\" onclick=\"quickchart('df-9e2161ff-b796-45c0-85cc-e6ceab038a2f')\"\n",
              "            title=\"Suggest charts\"\n",
              "            style=\"display:none;\">\n",
              "\n",
              "<svg xmlns=\"http://www.w3.org/2000/svg\" height=\"24px\"viewBox=\"0 0 24 24\"\n",
              "     width=\"24px\">\n",
              "    <g>\n",
              "        <path d=\"M19 3H5c-1.1 0-2 .9-2 2v14c0 1.1.9 2 2 2h14c1.1 0 2-.9 2-2V5c0-1.1-.9-2-2-2zM9 17H7v-7h2v7zm4 0h-2V7h2v10zm4 0h-2v-4h2v4z\"/>\n",
              "    </g>\n",
              "</svg>\n",
              "  </button>\n",
              "\n",
              "<style>\n",
              "  .colab-df-quickchart {\n",
              "      --bg-color: #E8F0FE;\n",
              "      --fill-color: #1967D2;\n",
              "      --hover-bg-color: #E2EBFA;\n",
              "      --hover-fill-color: #174EA6;\n",
              "      --disabled-fill-color: #AAA;\n",
              "      --disabled-bg-color: #DDD;\n",
              "  }\n",
              "\n",
              "  [theme=dark] .colab-df-quickchart {\n",
              "      --bg-color: #3B4455;\n",
              "      --fill-color: #D2E3FC;\n",
              "      --hover-bg-color: #434B5C;\n",
              "      --hover-fill-color: #FFFFFF;\n",
              "      --disabled-bg-color: #3B4455;\n",
              "      --disabled-fill-color: #666;\n",
              "  }\n",
              "\n",
              "  .colab-df-quickchart {\n",
              "    background-color: var(--bg-color);\n",
              "    border: none;\n",
              "    border-radius: 50%;\n",
              "    cursor: pointer;\n",
              "    display: none;\n",
              "    fill: var(--fill-color);\n",
              "    height: 32px;\n",
              "    padding: 0;\n",
              "    width: 32px;\n",
              "  }\n",
              "\n",
              "  .colab-df-quickchart:hover {\n",
              "    background-color: var(--hover-bg-color);\n",
              "    box-shadow: 0 1px 2px rgba(60, 64, 67, 0.3), 0 1px 3px 1px rgba(60, 64, 67, 0.15);\n",
              "    fill: var(--button-hover-fill-color);\n",
              "  }\n",
              "\n",
              "  .colab-df-quickchart-complete:disabled,\n",
              "  .colab-df-quickchart-complete:disabled:hover {\n",
              "    background-color: var(--disabled-bg-color);\n",
              "    fill: var(--disabled-fill-color);\n",
              "    box-shadow: none;\n",
              "  }\n",
              "\n",
              "  .colab-df-spinner {\n",
              "    border: 2px solid var(--fill-color);\n",
              "    border-color: transparent;\n",
              "    border-bottom-color: var(--fill-color);\n",
              "    animation:\n",
              "      spin 1s steps(1) infinite;\n",
              "  }\n",
              "\n",
              "  @keyframes spin {\n",
              "    0% {\n",
              "      border-color: transparent;\n",
              "      border-bottom-color: var(--fill-color);\n",
              "      border-left-color: var(--fill-color);\n",
              "    }\n",
              "    20% {\n",
              "      border-color: transparent;\n",
              "      border-left-color: var(--fill-color);\n",
              "      border-top-color: var(--fill-color);\n",
              "    }\n",
              "    30% {\n",
              "      border-color: transparent;\n",
              "      border-left-color: var(--fill-color);\n",
              "      border-top-color: var(--fill-color);\n",
              "      border-right-color: var(--fill-color);\n",
              "    }\n",
              "    40% {\n",
              "      border-color: transparent;\n",
              "      border-right-color: var(--fill-color);\n",
              "      border-top-color: var(--fill-color);\n",
              "    }\n",
              "    60% {\n",
              "      border-color: transparent;\n",
              "      border-right-color: var(--fill-color);\n",
              "    }\n",
              "    80% {\n",
              "      border-color: transparent;\n",
              "      border-right-color: var(--fill-color);\n",
              "      border-bottom-color: var(--fill-color);\n",
              "    }\n",
              "    90% {\n",
              "      border-color: transparent;\n",
              "      border-bottom-color: var(--fill-color);\n",
              "    }\n",
              "  }\n",
              "</style>\n",
              "\n",
              "  <script>\n",
              "    async function quickchart(key) {\n",
              "      const quickchartButtonEl =\n",
              "        document.querySelector('#' + key + ' button');\n",
              "      quickchartButtonEl.disabled = true;  // To prevent multiple clicks.\n",
              "      quickchartButtonEl.classList.add('colab-df-spinner');\n",
              "      try {\n",
              "        const charts = await google.colab.kernel.invokeFunction(\n",
              "            'suggestCharts', [key], {});\n",
              "      } catch (error) {\n",
              "        console.error('Error during call to suggestCharts:', error);\n",
              "      }\n",
              "      quickchartButtonEl.classList.remove('colab-df-spinner');\n",
              "      quickchartButtonEl.classList.add('colab-df-quickchart-complete');\n",
              "    }\n",
              "    (() => {\n",
              "      let quickchartButtonEl =\n",
              "        document.querySelector('#df-9e2161ff-b796-45c0-85cc-e6ceab038a2f button');\n",
              "      quickchartButtonEl.style.display =\n",
              "        google.colab.kernel.accessAllowed ? 'block' : 'none';\n",
              "    })();\n",
              "  </script>\n",
              "</div>\n",
              "\n",
              "    </div>\n",
              "  </div>\n"
            ],
            "application/vnd.google.colaboratory.intrinsic+json": {
              "type": "dataframe",
              "variable_name": "df",
              "summary": "{\n  \"name\": \"df\",\n  \"rows\": 50,\n  \"fields\": [\n    {\n      \"column\": \"Transaction ID\",\n      \"properties\": {\n        \"dtype\": \"number\",\n        \"std\": 14,\n        \"min\": 1,\n        \"max\": 50,\n        \"num_unique_values\": 50,\n        \"samples\": [\n          14,\n          40,\n          31\n        ],\n        \"semantic_type\": \"\",\n        \"description\": \"\"\n      }\n    },\n    {\n      \"column\": \"Date\",\n      \"properties\": {\n        \"dtype\": \"object\",\n        \"num_unique_values\": 50,\n        \"samples\": [\n          \"2024-01-14\",\n          \"2024-02-09\",\n          \"2024-01-31\"\n        ],\n        \"semantic_type\": \"\",\n        \"description\": \"\"\n      }\n    },\n    {\n      \"column\": \"Description\",\n      \"properties\": {\n        \"dtype\": \"string\",\n        \"num_unique_values\": 33,\n        \"samples\": [\n          \"Car Insurance\",\n          \"Gym Membership\",\n          \"Bond Purchase\"\n        ],\n        \"semantic_type\": \"\",\n        \"description\": \"\"\n      }\n    },\n    {\n      \"column\": \"Amount\",\n      \"properties\": {\n        \"dtype\": \"number\",\n        \"std\": 21894.252892410757,\n        \"min\": -120000.0,\n        \"max\": 3000.0,\n        \"num_unique_values\": 39,\n        \"samples\": [\n          550.0,\n          -120000.0,\n          500.0\n        ],\n        \"semantic_type\": \"\",\n        \"description\": \"\"\n      }\n    },\n    {\n      \"column\": \"Category\",\n      \"properties\": {\n        \"dtype\": \"category\",\n        \"num_unique_values\": 5,\n        \"samples\": [\n          \"Expenditure\",\n          \"Assets\",\n          \"Investments\"\n        ],\n        \"semantic_type\": \"\",\n        \"description\": \"\"\n      }\n    },\n    {\n      \"column\": \"Subcategory\",\n      \"properties\": {\n        \"dtype\": \"category\",\n        \"num_unique_values\": 21,\n        \"samples\": [\n          \"Salary\",\n          \"Car Loan\",\n          \"Other\"\n        ],\n        \"semantic_type\": \"\",\n        \"description\": \"\"\n      }\n    }\n  ]\n}"
            }
          },
          "metadata": {},
          "execution_count": 59
        }
      ],
      "source": [
        "df.head()"
      ]
    },
    {
      "cell_type": "code",
      "execution_count": null,
      "metadata": {
        "id": "xcWnkK8SndAO"
      },
      "outputs": [],
      "source": [
        "# Encode the labels\n",
        "category_encoder = LabelEncoder()\n",
        "subcategory_encoder = LabelEncoder()\n",
        "df['Category'] = category_encoder.fit_transform(df['Category'])\n",
        "df['Subcategory'] = subcategory_encoder.fit_transform(df['Subcategory'])"
      ]
    },
    {
      "cell_type": "code",
      "execution_count": null,
      "metadata": {
        "id": "8IFBs0xSuP4f"
      },
      "outputs": [],
      "source": [
        "scaler = StandardScaler()\n",
        "df[['Amount']] = scaler.fit_transform(df[['Amount']])\n"
      ]
    },
    {
      "cell_type": "code",
      "execution_count": null,
      "metadata": {
        "colab": {
          "base_uri": "https://localhost:8080/"
        },
        "id": "rDrpAj5GucEa",
        "outputId": "adea8439-f62d-4a64-91ba-0736cb32cb20"
      },
      "outputs": [
        {
          "output_type": "execute_result",
          "data": {
            "text/plain": [
              "count    5.000000e+01\n",
              "mean     2.942091e-17\n",
              "std      1.010153e+00\n",
              "min     -5.330449e+00\n",
              "25%      1.841705e-01\n",
              "50%      2.037791e-01\n",
              "75%      2.285782e-01\n",
              "max      3.444994e-01\n",
              "Name: Amount, dtype: float64"
            ]
          },
          "metadata": {},
          "execution_count": 62
        }
      ],
      "source": [
        "df[\"Amount\"].describe()"
      ]
    },
    {
      "cell_type": "code",
      "source": [
        "df.duplicated().sum()"
      ],
      "metadata": {
        "colab": {
          "base_uri": "https://localhost:8080/"
        },
        "id": "3cG2t9I_bFP0",
        "outputId": "2144d609-a943-447d-fd5d-caeb8bb27a53"
      },
      "execution_count": null,
      "outputs": [
        {
          "output_type": "execute_result",
          "data": {
            "text/plain": [
              "0"
            ]
          },
          "metadata": {},
          "execution_count": 9
        }
      ]
    },
    {
      "cell_type": "code",
      "execution_count": null,
      "metadata": {
        "colab": {
          "base_uri": "https://localhost:8080/"
        },
        "collapsed": true,
        "id": "GxwfC7KPvccB",
        "outputId": "36908122-a8e1-4088-ba15-e210fba9d88e"
      },
      "outputs": [
        {
          "name": "stdout",
          "output_type": "stream",
          "text": [
            "count        50.000000\n",
            "mean      -4466.750000\n",
            "std       21894.252892\n",
            "min     -120000.000000\n",
            "25%        -475.000000\n",
            "50%         -50.000000\n",
            "75%         487.500000\n",
            "max        3000.000000\n",
            "Name: Amount, dtype: float64\n",
            "Amount\n",
            " 3000.0      3\n",
            "-300.0       2\n",
            "-2000.0      2\n",
            "-50.0        2\n",
            "-500.0       2\n",
            "-100.0       2\n",
            "-1200.0      2\n",
            "-200.0       2\n",
            " 500.0       2\n",
            "-1500.0      2\n",
            " 100.0       1\n",
            "-3000.0      1\n",
            " 600.0       1\n",
            "-600.0       1\n",
            "-5000.0      1\n",
            " 200.0       1\n",
            "-7.0         1\n",
            " 900.0       1\n",
            " 550.0       1\n",
            "-25.0        1\n",
            " 150.0       1\n",
            "-120000.0    1\n",
            "-55.0        1\n",
            "-400.0       1\n",
            " 800.0       1\n",
            " 700.0       1\n",
            "-40.0        1\n",
            "-150.0       1\n",
            " 2000.0      1\n",
            "-60.0        1\n",
            "-5.5         1\n",
            " 450.0       1\n",
            "-250.0       1\n",
            " 650.0       1\n",
            " 750.0       1\n",
            "-100000.0    1\n",
            "-20.0        1\n",
            " 50.0        1\n",
            " 75.0        1\n",
            "Name: count, dtype: int64\n"
          ]
        }
      ],
      "source": [
        "# # Check the values in the 'Amount' column\n",
        "# print(df['Amount'].describe())\n",
        "# print(df['Amount'].value_counts())\n"
      ]
    },
    {
      "cell_type": "code",
      "execution_count": null,
      "metadata": {
        "id": "FS4eUGOtJsLh"
      },
      "outputs": [],
      "source": [
        "# # Ensure 'Amount' has variance\n",
        "# if df['Amount'].std() == 0:\n",
        "#     print(\"Warning: 'Amount' column has zero variance. Skipping StandardScaler.\")\n",
        "# else:\n",
        "#     scaler = StandardScaler()\n",
        "#     df[['Amount']] = scaler.fit_transform(df[['Amount']])"
      ]
    },
    {
      "cell_type": "code",
      "execution_count": null,
      "metadata": {
        "id": "t1UGv4OrNypS"
      },
      "outputs": [],
      "source": [
        "from transformers import BertTokenizer, BertModel\n",
        "\n",
        "# Load the tokenizer and model\n",
        "tokenizer = BertTokenizer.from_pretrained('bert-base-uncased')\n",
        "bert_model = BertModel.from_pretrained('bert-base-uncased')\n",
        "\n",
        "# Tokenize descriptions\n",
        "train_descriptions = tokenizer(list(df['Description']), padding=True, truncation=True, return_tensors='pt')\n"
      ]
    },
    {
      "cell_type": "code",
      "execution_count": null,
      "metadata": {
        "id": "tTRkxxVvN_0X"
      },
      "outputs": [],
      "source": [
        "# Extract BERT features\n",
        "with torch.no_grad():\n",
        "    bert_features = bert_model(**train_descriptions).last_hidden_state[:, 0, :]  # CLS token features\n"
      ]
    },
    {
      "cell_type": "code",
      "execution_count": null,
      "metadata": {
        "colab": {
          "base_uri": "https://localhost:8080/"
        },
        "id": "eh7CLRdIOFPh",
        "outputId": "b79e3396-8a53-4b91-9797-d40585508998"
      },
      "outputs": [
        {
          "output_type": "execute_result",
          "data": {
            "text/plain": [
              "tensor([[-0.3497,  0.2390, -0.2440,  ..., -0.1196, -0.3912,  0.6157],\n",
              "        [-0.0448,  0.1907, -0.3153,  ..., -0.2591,  0.2497,  0.0919],\n",
              "        [-0.5401, -0.1125, -0.3305,  ..., -0.0009,  0.1551,  0.3311],\n",
              "        ...,\n",
              "        [-0.0539,  0.1881, -0.3656,  ...,  0.0103, -0.1854,  0.2190],\n",
              "        [-0.2713,  0.0684, -0.1924,  ...,  0.0146, -0.0506,  0.3271],\n",
              "        [-0.1231,  0.2576, -0.2130,  ..., -0.0556, -0.0860,  0.2884]])"
            ]
          },
          "metadata": {},
          "execution_count": 65
        }
      ],
      "source": [
        "bert_features"
      ]
    },
    {
      "cell_type": "code",
      "execution_count": null,
      "metadata": {
        "id": "0AAArEGJKwiM"
      },
      "outputs": [],
      "source": [
        "# Convert the numerical data to tensors\n",
        "amount_tensor = torch.tensor(df[['Amount']].values, dtype=torch.float32)\n",
        "\n",
        "# Concatenate BERT features with numerical features\n",
        "combined_features = torch.cat((amount_tensor, bert_features), dim=1)\n"
      ]
    },
    {
      "cell_type": "code",
      "execution_count": null,
      "metadata": {
        "id": "sg4GKp-5OVMs"
      },
      "outputs": [],
      "source": [
        "# Split the data into training and testing sets\n",
        "X_train, X_test, y_train, y_test = train_test_split(combined_features, df[['Category', 'Subcategory']], test_size=0.2, random_state=42)\n",
        "\n",
        "# Convert training and testing data to PyTorch tensors\n",
        "y_train_tensor = torch.tensor(y_train.values, dtype=torch.long)\n",
        "y_test_tensor = torch.tensor(y_test.values, dtype=torch.long)\n"
      ]
    },
    {
      "cell_type": "code",
      "source": [
        "import torch.nn as nn\n",
        "from transformers import PreTrainedModel, BertModel\n",
        "\n",
        "class CombinedModel(PreTrainedModel):\n",
        "    def __init__(self, config, num_categories, num_subcategories):\n",
        "        super().__init__(config)\n",
        "        self.bert = BertModel(config)\n",
        "        self.fc1 = nn.Linear(config.hidden_size + 1, 256)\n",
        "        self.relu = nn.ReLU()\n",
        "        self.dropout = nn.Dropout(0.2)\n",
        "        self.category_classifier = nn.Linear(256, num_categories)\n",
        "        self.subcategory_classifier = nn.Linear(256, num_subcategories)\n",
        "\n",
        "    def forward(self, bert_input_ids, attention_mask, amount_tensor):\n",
        "        bert_features = self.bert(input_ids=bert_input_ids, attention_mask=attention_mask).last_hidden_state[:, 0, :]  # CLS token features\n",
        "        amount_tensor = amount_tensor.squeeze(-1)  # Ensure correct shape\n",
        "        combined_features = torch.cat((amount_tensor, bert_features), dim=1)\n",
        "        x = self.fc1(combined_features)\n",
        "        x = self.relu(x)\n",
        "        x = self.dropout(x)\n",
        "        category_outputs = self.category_classifier(x)\n",
        "        subcategory_outputs = self.subcategory_classifier(x)\n",
        "        return category_outputs, subcategory_outputs\n",
        "\n",
        "\n",
        "\n",
        "\n",
        "# # Saving the model\n",
        "# model.save_pretrained(\"C:\\\\Users\\\\anirudh.nandakumar\\\\Desktop\",from_pt=True)"
      ],
      "metadata": {
        "id": "x_fYNBWwfAZo"
      },
      "execution_count": null,
      "outputs": []
    },
    {
      "cell_type": "code",
      "source": [
        "# Load pretrained BERT configuration\n",
        "config = BertConfig.from_pretrained('bert-base-uncased')  # Use the appropriate BERT variant\n",
        "\n",
        "# Calculate number of categories and subcategories\n",
        "num_categories = len(df['Category'].unique())\n",
        "num_subcategories = len(df['Subcategory'].unique())\n",
        "\n",
        "# Instantiate the combined model\n",
        "model = CombinedModel(config, num_categories, num_subcategories)"
      ],
      "metadata": {
        "id": "MwBi8qxufUVK",
        "colab": {
          "base_uri": "https://localhost:8080/"
        },
        "outputId": "9763a92e-0bcc-4d3c-a794-e157c4387a76"
      },
      "execution_count": null,
      "outputs": [
        {
          "output_type": "stream",
          "name": "stderr",
          "text": [
            "/usr/local/lib/python3.10/dist-packages/huggingface_hub/file_download.py:1132: FutureWarning: `resume_download` is deprecated and will be removed in version 1.0.0. Downloads always resume when possible. If you want to force a new download, use `force_download=True`.\n",
            "  warnings.warn(\n"
          ]
        }
      ]
    },
    {
      "cell_type": "code",
      "execution_count": null,
      "metadata": {
        "id": "AYxODQA_Oa1W"
      },
      "outputs": [],
      "source": [
        "class CombinedModel(torch.nn.Module):\n",
        "    def __init__(self, input_size, num_categories, num_subcategories):\n",
        "        super(CombinedModel, self).__init__()\n",
        "        self.fc1 = torch.nn.Linear(input_size, 128)\n",
        "        self.fc2 = torch.nn.Linear(128, 64)\n",
        "        self.fc3_category = torch.nn.Linear(64, num_categories)\n",
        "        self.fc3_subcategory = torch.nn.Linear(64, num_subcategories)\n",
        "\n",
        "    def forward(self, x):\n",
        "        x = torch.relu(self.fc1(x))\n",
        "        x = torch.relu(self.fc2(x))\n",
        "        category_output = self.fc3_category(x)\n",
        "        subcategory_output = self.fc3_subcategory(x)\n",
        "        return category_output, subcategory_output\n",
        "\n",
        "input_size = combined_features.shape[1]\n",
        "num_categories = len(df['Category'].unique())\n",
        "num_subcategories = len(df['Subcategory'].unique())\n",
        "model = CombinedModel(input_size, num_categories, num_subcategories)\n",
        "\n",
        "\n",
        "\n"
      ]
    },
    {
      "cell_type": "code",
      "execution_count": null,
      "metadata": {
        "id": "t17Reg3SOt0A"
      },
      "outputs": [],
      "source": [
        "from torch.utils.data import DataLoader, TensorDataset\n",
        "\n",
        "# Define loss and optimizer\n",
        "criterion = torch.nn.CrossEntropyLoss()\n",
        "optimizer = torch.optim.Adam(model.parameters(), lr=0.001)\n",
        "\n",
        "# Create DataLoaders\n",
        "train_dataset = TensorDataset(X_train, y_train_tensor)\n",
        "test_dataset = TensorDataset(X_test, y_test_tensor)\n",
        "\n",
        "train_dataloader = DataLoader(train_dataset, batch_size=32, shuffle=True)\n",
        "test_dataloader = DataLoader(test_dataset, batch_size=32, shuffle=False)"
      ]
    },
    {
      "cell_type": "code",
      "source": [
        "!pip install wandb --q"
      ],
      "metadata": {
        "colab": {
          "base_uri": "https://localhost:8080/"
        },
        "collapsed": true,
        "id": "7yr8Ry6LUcIr",
        "outputId": "f7ed2925-2e37-4e13-f2ce-ad8a6db2cfd7"
      },
      "execution_count": null,
      "outputs": [
        {
          "output_type": "stream",
          "name": "stdout",
          "text": [
            "\u001b[2K     \u001b[90m━━━━━━━━━━━━━━━━━━━━━━━━━━━━━━━━━━━━━━━━\u001b[0m \u001b[32m6.9/6.9 MB\u001b[0m \u001b[31m22.5 MB/s\u001b[0m eta \u001b[36m0:00:00\u001b[0m\n",
            "\u001b[2K     \u001b[90m━━━━━━━━━━━━━━━━━━━━━━━━━━━━━━━━━━━━━━━━\u001b[0m \u001b[32m207.3/207.3 kB\u001b[0m \u001b[31m24.9 MB/s\u001b[0m eta \u001b[36m0:00:00\u001b[0m\n",
            "\u001b[2K     \u001b[90m━━━━━━━━━━━━━━━━━━━━━━━━━━━━━━━━━━━━━━━━\u001b[0m \u001b[32m300.1/300.1 kB\u001b[0m \u001b[31m33.0 MB/s\u001b[0m eta \u001b[36m0:00:00\u001b[0m\n",
            "\u001b[2K     \u001b[90m━━━━━━━━━━━━━━━━━━━━━━━━━━━━━━━━━━━━━━━━\u001b[0m \u001b[32m62.7/62.7 kB\u001b[0m \u001b[31m7.9 MB/s\u001b[0m eta \u001b[36m0:00:00\u001b[0m\n",
            "\u001b[?25h"
          ]
        }
      ]
    },
    {
      "cell_type": "code",
      "source": [
        "import wandb\n",
        "\n",
        "# Initialize wandb\n",
        "wandb.init(project='dome_train', name='training_run')"
      ],
      "metadata": {
        "colab": {
          "base_uri": "https://localhost:8080/",
          "height": 125
        },
        "id": "_-BzQ68bbgax",
        "outputId": "8ff367a8-aa97-4015-89de-e5d7a2decb6d"
      },
      "execution_count": null,
      "outputs": [
        {
          "output_type": "display_data",
          "data": {
            "text/plain": [
              "<IPython.core.display.HTML object>"
            ],
            "text/html": [
              "Tracking run with wandb version 0.17.3"
            ]
          },
          "metadata": {}
        },
        {
          "output_type": "display_data",
          "data": {
            "text/plain": [
              "<IPython.core.display.HTML object>"
            ],
            "text/html": [
              "Run data is saved locally in <code>/content/wandb/run-20240627_071230-fuxc6jpk</code>"
            ]
          },
          "metadata": {}
        },
        {
          "output_type": "display_data",
          "data": {
            "text/plain": [
              "<IPython.core.display.HTML object>"
            ],
            "text/html": [
              "Syncing run <strong><a href='https://wandb.ai/007anirudhnandakumar/dome_train/runs/fuxc6jpk' target=\"_blank\">training_run</a></strong> to <a href='https://wandb.ai/007anirudhnandakumar/dome_train' target=\"_blank\">Weights & Biases</a> (<a href='https://wandb.me/run' target=\"_blank\">docs</a>)<br/>"
            ]
          },
          "metadata": {}
        },
        {
          "output_type": "display_data",
          "data": {
            "text/plain": [
              "<IPython.core.display.HTML object>"
            ],
            "text/html": [
              " View project at <a href='https://wandb.ai/007anirudhnandakumar/dome_train' target=\"_blank\">https://wandb.ai/007anirudhnandakumar/dome_train</a>"
            ]
          },
          "metadata": {}
        },
        {
          "output_type": "display_data",
          "data": {
            "text/plain": [
              "<IPython.core.display.HTML object>"
            ],
            "text/html": [
              " View run at <a href='https://wandb.ai/007anirudhnandakumar/dome_train/runs/fuxc6jpk' target=\"_blank\">https://wandb.ai/007anirudhnandakumar/dome_train/runs/fuxc6jpk</a>"
            ]
          },
          "metadata": {}
        },
        {
          "output_type": "execute_result",
          "data": {
            "text/html": [
              "<button onClick=\"this.nextSibling.style.display='block';this.style.display='none';\">Display W&B run</button><iframe src='https://wandb.ai/007anirudhnandakumar/dome_train/runs/fuxc6jpk?jupyter=true' style='border:none;width:100%;height:420px;display:none;'></iframe>"
            ],
            "text/plain": [
              "<wandb.sdk.wandb_run.Run at 0x783d40af3be0>"
            ]
          },
          "metadata": {},
          "execution_count": 74
        }
      ]
    },
    {
      "cell_type": "code",
      "source": [
        "import time\n",
        "from sklearn.metrics import confusion_matrix, precision_score, recall_score, f1_score"
      ],
      "metadata": {
        "id": "JVs6qgVcc3l3"
      },
      "execution_count": null,
      "outputs": []
    },
    {
      "cell_type": "code",
      "source": [
        "# Set hyperparameters and configurations\n",
        "config = {\n",
        "    'num_epochs': 18,\n",
        "    'learning_rate': optimizer.param_groups[0]['lr'],\n",
        "    'batch_size': train_dataloader.batch_size,\n",
        "    # Add any other relevant hyperparameters\n",
        "}\n",
        "wandb.config.update(config)\n",
        "\n",
        "num_epochs = config['num_epochs']\n",
        "\n",
        "for epoch in range(num_epochs):\n",
        "    model.train()\n",
        "    epoch_loss = 0\n",
        "    correct_category, total_category = 0, 0\n",
        "    correct_subcategory, total_subcategory = 0, 0\n",
        "    start_time = time.time()\n",
        "\n",
        "    for inputs, labels in train_dataloader:\n",
        "        optimizer.zero_grad()\n",
        "        category_outputs, subcategory_outputs = model(inputs)\n",
        "        loss_category = criterion(category_outputs, labels[:, 0])\n",
        "        loss_subcategory = criterion(subcategory_outputs, labels[:, 1])\n",
        "        loss = loss_category + loss_subcategory\n",
        "        loss.backward()\n",
        "        optimizer.step()\n",
        "\n",
        "        epoch_loss += loss.item()\n",
        "\n",
        "        _, predicted_category = torch.max(category_outputs.data, 1)\n",
        "        _, predicted_subcategory = torch.max(subcategory_outputs.data, 1)\n",
        "\n",
        "        total_category += labels[:, 0].size(0)\n",
        "        correct_category += (predicted_category == labels[:, 0]).sum().item()\n",
        "        total_subcategory += labels[:, 1].size(0)\n",
        "        correct_subcategory += (predicted_subcategory == labels[:, 1]).sum().item()\n",
        "\n",
        "    epoch_accuracy_category = correct_category / total_category\n",
        "    epoch_accuracy_subcategory = correct_subcategory / total_subcategory\n",
        "    epoch_duration = time.time() - start_time\n",
        "\n",
        "    # Log metrics for this epoch to wandb\n",
        "    wandb.log({\n",
        "        'epoch': epoch + 1,\n",
        "        'loss': epoch_loss / len(train_dataloader),\n",
        "        'accuracy_category': epoch_accuracy_category,\n",
        "        'accuracy_subcategory': epoch_accuracy_subcategory,\n",
        "        'epoch_duration': epoch_duration,\n",
        "        'learning_rate': optimizer.param_groups[0]['lr']\n",
        "    })\n",
        "    print(f'Epoch [{epoch+1}/{num_epochs}], Loss: {epoch_loss / len(train_dataloader):.4f}, '\n",
        "          f'Accuracy Category: {epoch_accuracy_category:.4f}, '\n",
        "          f'Accuracy Subcategory: {epoch_accuracy_subcategory:.4f}, '\n",
        "          f'Epoch Duration: {epoch_duration:.2f}s')\n",
        "\n"
      ],
      "metadata": {
        "colab": {
          "base_uri": "https://localhost:8080/"
        },
        "id": "WjwUFgWBc9kg",
        "outputId": "509e0cf1-5609-4b05-a706-107758f7c71a"
      },
      "execution_count": null,
      "outputs": [
        {
          "output_type": "stream",
          "name": "stdout",
          "text": [
            "Epoch [1/18], Loss: 4.6837, Accuracy Category: 0.1250, Accuracy Subcategory: 0.0500, Epoch Duration: 0.01s\n",
            "Epoch [2/18], Loss: 4.5524, Accuracy Category: 0.3750, Accuracy Subcategory: 0.1250, Epoch Duration: 0.01s\n",
            "Epoch [3/18], Loss: 4.4452, Accuracy Category: 0.3750, Accuracy Subcategory: 0.1500, Epoch Duration: 0.01s\n",
            "Epoch [4/18], Loss: 4.4141, Accuracy Category: 0.4250, Accuracy Subcategory: 0.2000, Epoch Duration: 0.00s\n",
            "Epoch [5/18], Loss: 4.2230, Accuracy Category: 0.5000, Accuracy Subcategory: 0.2000, Epoch Duration: 0.01s\n",
            "Epoch [6/18], Loss: 4.1363, Accuracy Category: 0.5750, Accuracy Subcategory: 0.2000, Epoch Duration: 0.01s\n",
            "Epoch [7/18], Loss: 4.1067, Accuracy Category: 0.6500, Accuracy Subcategory: 0.2000, Epoch Duration: 0.01s\n",
            "Epoch [8/18], Loss: 3.8855, Accuracy Category: 0.7250, Accuracy Subcategory: 0.1750, Epoch Duration: 0.01s\n",
            "Epoch [9/18], Loss: 3.7636, Accuracy Category: 0.7250, Accuracy Subcategory: 0.1750, Epoch Duration: 0.01s\n",
            "Epoch [10/18], Loss: 3.6011, Accuracy Category: 0.6750, Accuracy Subcategory: 0.1750, Epoch Duration: 0.01s\n",
            "Epoch [11/18], Loss: 3.8305, Accuracy Category: 0.6500, Accuracy Subcategory: 0.1750, Epoch Duration: 0.01s\n",
            "Epoch [12/18], Loss: 3.9281, Accuracy Category: 0.6250, Accuracy Subcategory: 0.2000, Epoch Duration: 0.01s\n",
            "Epoch [13/18], Loss: 3.5403, Accuracy Category: 0.6750, Accuracy Subcategory: 0.3750, Epoch Duration: 0.01s\n",
            "Epoch [14/18], Loss: 3.5022, Accuracy Category: 0.6750, Accuracy Subcategory: 0.4500, Epoch Duration: 0.01s\n",
            "Epoch [15/18], Loss: 3.5906, Accuracy Category: 0.7250, Accuracy Subcategory: 0.5250, Epoch Duration: 0.01s\n",
            "Epoch [16/18], Loss: 3.0948, Accuracy Category: 0.8000, Accuracy Subcategory: 0.5000, Epoch Duration: 0.01s\n",
            "Epoch [17/18], Loss: 3.1277, Accuracy Category: 0.8250, Accuracy Subcategory: 0.5250, Epoch Duration: 0.01s\n",
            "Epoch [18/18], Loss: 2.9085, Accuracy Category: 0.8500, Accuracy Subcategory: 0.5500, Epoch Duration: 0.01s\n"
          ]
        }
      ]
    },
    {
      "cell_type": "code",
      "source": [
        "# Evaluate the model\n",
        "def evaluate_model(model, dataloader):\n",
        "    model.eval()\n",
        "    total_category, correct_category = 0, 0\n",
        "    total_subcategory, correct_subcategory = 0, 0\n",
        "    all_labels = []\n",
        "    all_predictions_category = []\n",
        "    all_predictions_subcategory = []\n",
        "\n",
        "    with torch.no_grad():\n",
        "        for inputs, labels in dataloader:\n",
        "            category_outputs, subcategory_outputs = model(inputs)\n",
        "            _, predicted_category = torch.max(category_outputs.data, 1)\n",
        "            _, predicted_subcategory = torch.max(subcategory_outputs.data, 1)\n",
        "\n",
        "            total_category += labels[:, 0].size(0)\n",
        "            correct_category += (predicted_category == labels[:, 0]).sum().item()\n",
        "            total_subcategory += labels[:, 1].size(0)\n",
        "            correct_subcategory += (predicted_subcategory == labels[:, 1]).sum().item()\n",
        "\n",
        "            all_labels.append(labels)\n",
        "            all_predictions_category.append(predicted_category)\n",
        "            all_predictions_subcategory.append(predicted_subcategory)\n",
        "\n",
        "    accuracy_category = correct_category / total_category\n",
        "    accuracy_subcategory = correct_subcategory / total_subcategory\n",
        "\n",
        "    all_labels = torch.cat(all_labels)\n",
        "    all_predictions_category = torch.cat(all_predictions_category)\n",
        "    all_predictions_subcategory = torch.cat(all_predictions_subcategory)\n",
        "\n",
        "    # Compute additional metrics\n",
        "    precision_category = precision_score(all_labels[:, 0].cpu(), all_predictions_category.cpu(), average='weighted')\n",
        "    recall_category = recall_score(all_labels[:, 0].cpu(), all_predictions_category.cpu(), average='weighted')\n",
        "    f1_category = f1_score(all_labels[:, 0].cpu(), all_predictions_category.cpu(), average='weighted')\n",
        "\n",
        "    precision_subcategory = precision_score(all_labels[:, 1].cpu(), all_predictions_subcategory.cpu(), average='weighted')\n",
        "    recall_subcategory = recall_score(all_labels[:, 1].cpu(), all_predictions_subcategory.cpu(), average='weighted')\n",
        "    f1_subcategory = f1_score(all_labels[:, 1].cpu(), all_predictions_subcategory.cpu(), average='weighted')\n",
        "\n",
        "    return {\n",
        "        'accuracy_category': accuracy_category,\n",
        "        'accuracy_subcategory': accuracy_subcategory,\n",
        "        'precision_category': precision_category,\n",
        "        'recall_category': recall_category,\n",
        "        'f1_category': f1_category,\n",
        "        'precision_subcategory': precision_subcategory,\n",
        "        'recall_subcategory': recall_subcategory,\n",
        "        'f1_subcategory': f1_subcategory\n",
        "    }\n",
        "\n",
        "test_metrics = evaluate_model(model, test_dataloader)\n",
        "print(f'Test Accuracy for Category: {test_metrics[\"accuracy_category\"]:.4f}')\n",
        "print(f'Test Accuracy for Subcategory: {test_metrics[\"accuracy_subcategory\"]:.4f}')\n",
        "\n",
        "# Log the test metrics to wandb\n",
        "wandb.log(test_metrics)\n",
        "\n",
        "# Finish the wandb run\n",
        "wandb.finish()"
      ],
      "metadata": {
        "colab": {
          "base_uri": "https://localhost:8080/",
          "height": 634,
          "referenced_widgets": [
            "59333cafd758457cb1669e7ad6f24a55",
            "1fe90e5e570540f287794eaee3855b87",
            "f36a42baec034d7f8ddb55217075fc4d",
            "e51a210ced9241b4b40a3bd6788786a6",
            "347ee86348ce4ec1bd887cc499b07b36",
            "a86fd192b62a4c68adf7b4f72f837915",
            "94838d0ad13848829fb083f97fe07ea1",
            "75f25832a03446a7b3105df3a3faf2c1"
          ]
        },
        "id": "RlPQZvIzgDBr",
        "outputId": "43d1a697-e9ba-48ec-8487-9a0a91a48043"
      },
      "execution_count": null,
      "outputs": [
        {
          "output_type": "stream",
          "name": "stderr",
          "text": [
            "/usr/local/lib/python3.10/dist-packages/sklearn/metrics/_classification.py:1344: UndefinedMetricWarning: Precision is ill-defined and being set to 0.0 in labels with no predicted samples. Use `zero_division` parameter to control this behavior.\n",
            "  _warn_prf(average, modifier, msg_start, len(result))\n",
            "/usr/local/lib/python3.10/dist-packages/sklearn/metrics/_classification.py:1344: UndefinedMetricWarning: Precision is ill-defined and being set to 0.0 in labels with no predicted samples. Use `zero_division` parameter to control this behavior.\n",
            "  _warn_prf(average, modifier, msg_start, len(result))\n",
            "/usr/local/lib/python3.10/dist-packages/sklearn/metrics/_classification.py:1344: UndefinedMetricWarning: Recall is ill-defined and being set to 0.0 in labels with no true samples. Use `zero_division` parameter to control this behavior.\n",
            "  _warn_prf(average, modifier, msg_start, len(result))\n"
          ]
        },
        {
          "output_type": "stream",
          "name": "stdout",
          "text": [
            "Test Accuracy for Category: 0.7000\n",
            "Test Accuracy for Subcategory: 0.2000\n"
          ]
        },
        {
          "output_type": "display_data",
          "data": {
            "text/plain": [
              "VBox(children=(Label(value='0.001 MB of 0.001 MB uploaded\\r'), FloatProgress(value=1.0, max=1.0)))"
            ],
            "application/vnd.jupyter.widget-view+json": {
              "version_major": 2,
              "version_minor": 0,
              "model_id": "59333cafd758457cb1669e7ad6f24a55"
            }
          },
          "metadata": {}
        },
        {
          "output_type": "display_data",
          "data": {
            "text/plain": [
              "<IPython.core.display.HTML object>"
            ],
            "text/html": [
              "<style>\n",
              "    table.wandb td:nth-child(1) { padding: 0 10px; text-align: left ; width: auto;} td:nth-child(2) {text-align: left ; width: 100%}\n",
              "    .wandb-row { display: flex; flex-direction: row; flex-wrap: wrap; justify-content: flex-start; width: 100% }\n",
              "    .wandb-col { display: flex; flex-direction: column; flex-basis: 100%; flex: 1; padding: 10px; }\n",
              "    </style>\n",
              "<div class=\"wandb-row\"><div class=\"wandb-col\"><h3>Run history:</h3><br/><table class=\"wandb\"><tr><td>accuracy_category</td><td>▁▃▃▄▅▅▆▇▇▆▆▆▆▆▇███▇</td></tr><tr><td>accuracy_subcategory</td><td>▁▂▂▃▃▃▃▃▃▃▃▃▆▇█▇██▃</td></tr><tr><td>epoch</td><td>▁▁▂▂▃▃▃▄▄▅▅▆▆▆▇▇██</td></tr><tr><td>epoch_duration</td><td>▄▂▂▁▂▁▅▇█▇▆▅▆▆▆▇▆▃</td></tr><tr><td>f1_category</td><td>▁</td></tr><tr><td>f1_subcategory</td><td>▁</td></tr><tr><td>learning_rate</td><td>▁▁▁▁▁▁▁▁▁▁▁▁▁▁▁▁▁▁</td></tr><tr><td>loss</td><td>█▇▇▇▆▆▆▅▄▄▅▅▃▃▄▂▂▁</td></tr><tr><td>precision_category</td><td>▁</td></tr><tr><td>precision_subcategory</td><td>▁</td></tr><tr><td>recall_category</td><td>▁</td></tr><tr><td>recall_subcategory</td><td>▁</td></tr></table><br/></div><div class=\"wandb-col\"><h3>Run summary:</h3><br/><table class=\"wandb\"><tr><td>accuracy_category</td><td>0.7</td></tr><tr><td>accuracy_subcategory</td><td>0.2</td></tr><tr><td>epoch</td><td>18</td></tr><tr><td>epoch_duration</td><td>0.00612</td></tr><tr><td>f1_category</td><td>0.69286</td></tr><tr><td>f1_subcategory</td><td>0.07333</td></tr><tr><td>learning_rate</td><td>0.001</td></tr><tr><td>loss</td><td>2.90847</td></tr><tr><td>precision_category</td><td>0.73333</td></tr><tr><td>precision_subcategory</td><td>0.045</td></tr><tr><td>recall_category</td><td>0.7</td></tr><tr><td>recall_subcategory</td><td>0.2</td></tr></table><br/></div></div>"
            ]
          },
          "metadata": {}
        },
        {
          "output_type": "display_data",
          "data": {
            "text/plain": [
              "<IPython.core.display.HTML object>"
            ],
            "text/html": [
              " View run <strong style=\"color:#cdcd00\">training_run</strong> at: <a href='https://wandb.ai/007anirudhnandakumar/dome_train/runs/9zglom9l' target=\"_blank\">https://wandb.ai/007anirudhnandakumar/dome_train/runs/9zglom9l</a><br/> View project at: <a href='https://wandb.ai/007anirudhnandakumar/dome_train' target=\"_blank\">https://wandb.ai/007anirudhnandakumar/dome_train</a><br/>Synced 5 W&B file(s), 0 media file(s), 0 artifact file(s) and 0 other file(s)"
            ]
          },
          "metadata": {}
        },
        {
          "output_type": "display_data",
          "data": {
            "text/plain": [
              "<IPython.core.display.HTML object>"
            ],
            "text/html": [
              "Find logs at: <code>./wandb/run-20240627_071152-9zglom9l/logs</code>"
            ]
          },
          "metadata": {}
        },
        {
          "output_type": "display_data",
          "data": {
            "text/plain": [
              "<IPython.core.display.HTML object>"
            ],
            "text/html": [
              "The new W&B backend becomes opt-out in version 0.18.0; try it out with `wandb.require(\"core\")`! See https://wandb.me/wandb-core for more information."
            ]
          },
          "metadata": {}
        }
      ]
    },
    {
      "cell_type": "code",
      "source": [
        "\n",
        "\n",
        "# Set hyperparameters and configurations\n",
        "config = {\n",
        "    'num_epochs': 80,\n",
        "    'learning_rate': optimizer.param_groups[0]['lr'],\n",
        "    'batch_size': train_dataloader.batch_size,\n",
        "    # Add any other relevant hyperparameters\n",
        "}\n",
        "wandb.config.update(config)\n",
        "\n",
        "num_epochs = config['num_epochs']\n",
        "\n",
        "for epoch in range(num_epochs):\n",
        "    model.train()\n",
        "    epoch_loss = 0\n",
        "    for inputs, labels in train_dataloader:\n",
        "        optimizer.zero_grad()\n",
        "        category_outputs, subcategory_outputs = model(inputs)\n",
        "        loss_category = criterion(category_outputs, labels[:, 0])\n",
        "        loss_subcategory = criterion(subcategory_outputs, labels[:, 1])\n",
        "        loss = loss_category + loss_subcategory\n",
        "        loss.backward()\n",
        "        optimizer.step()\n",
        "        epoch_loss += loss.item()\n",
        "\n",
        "    # Log the average loss for this epoch to wandb\n",
        "    wandb.log({'epoch': epoch + 1, 'loss': epoch_loss / len(train_dataloader)})\n",
        "    print(f'Epoch [{epoch+1}/{num_epochs}], Loss: {epoch_loss / len(train_dataloader):.4f}')\n",
        "\n",
        "# Evaluate the model\n",
        "def evaluate_model(model, dataloader):\n",
        "    model.eval()\n",
        "    total_category, correct_category = 0, 0\n",
        "    total_subcategory, correct_subcategory = 0, 0\n",
        "    with torch.no_grad():\n",
        "        for inputs, labels in dataloader:\n",
        "            category_outputs, subcategory_outputs = model(inputs)\n",
        "            _, predicted_category = torch.max(category_outputs.data, 1)\n",
        "            _, predicted_subcategory = torch.max(subcategory_outputs.data, 1)\n",
        "            total_category += labels[:, 0].size(0)\n",
        "            correct_category += (predicted_category == labels[:, 0]).sum().item()\n",
        "            total_subcategory += labels[:, 1].size(0)\n",
        "            correct_subcategory += (predicted_subcategory == labels[:, 1]).sum().item()\n",
        "    accuracy_category = correct_category / total_category\n",
        "    accuracy_subcategory = correct_subcategory / total_subcategory\n",
        "    return accuracy_category, accuracy_subcategory\n",
        "\n",
        "test_accuracy_category, test_accuracy_subcategory = evaluate_model(model, test_dataloader)\n",
        "print(f'Test Accuracy for Category: {test_accuracy_category:.4f}')\n",
        "print(f'Test Accuracy for Subcategory: {test_accuracy_subcategory:.4f}')\n",
        "\n",
        "# Log the test accuracies to wandb\n",
        "wandb.log({\n",
        "    'test_accuracy_category': test_accuracy_category,\n",
        "    'test_accuracy_subcategory': test_accuracy_subcategory\n",
        "})\n",
        "\n",
        "# Finish the wandb run\n",
        "wandb.finish()"
      ],
      "metadata": {
        "colab": {
          "base_uri": "https://localhost:8080/",
          "height": 1000,
          "referenced_widgets": [
            "2dc048938f7f4a21a74fc92a69b1530e",
            "56cdcf2c20dc475e96b707d4ba408a0e",
            "4dc733bd4fee419eacf63673275d939a",
            "471e899ac6764d61bb9722b85a12a9da",
            "ad2040cf33704d71afe5b1ad6aa1d800",
            "25ed5808c30345bfabc8ab5148aeb8e7",
            "eba56b7a3cc14dd9a9af99555ef40ea3",
            "0755588fe04841629e9a9bdccb387c3e"
          ]
        },
        "id": "6y-2QxcfUZVl",
        "outputId": "fcce8826-91a6-47ec-838f-715c4a35dce4"
      },
      "execution_count": null,
      "outputs": [
        {
          "output_type": "stream",
          "name": "stdout",
          "text": [
            "Epoch [1/80], Loss: 2.8446\n",
            "Epoch [2/80], Loss: 2.9872\n",
            "Epoch [3/80], Loss: 2.3665\n",
            "Epoch [4/80], Loss: 2.6478\n",
            "Epoch [5/80], Loss: 2.1596\n",
            "Epoch [6/80], Loss: 2.0790\n",
            "Epoch [7/80], Loss: 2.3346\n",
            "Epoch [8/80], Loss: 2.1222\n",
            "Epoch [9/80], Loss: 1.8897\n",
            "Epoch [10/80], Loss: 2.0427\n",
            "Epoch [11/80], Loss: 1.8352\n",
            "Epoch [12/80], Loss: 1.5911\n",
            "Epoch [13/80], Loss: 1.8396\n",
            "Epoch [14/80], Loss: 1.7217\n",
            "Epoch [15/80], Loss: 1.5613\n",
            "Epoch [16/80], Loss: 1.5984\n",
            "Epoch [17/80], Loss: 1.2384\n",
            "Epoch [18/80], Loss: 1.3714\n",
            "Epoch [19/80], Loss: 1.3010\n",
            "Epoch [20/80], Loss: 1.3961\n",
            "Epoch [21/80], Loss: 1.1916\n",
            "Epoch [22/80], Loss: 1.2193\n",
            "Epoch [23/80], Loss: 0.8033\n",
            "Epoch [24/80], Loss: 0.9925\n",
            "Epoch [25/80], Loss: 0.9293\n",
            "Epoch [26/80], Loss: 0.9754\n",
            "Epoch [27/80], Loss: 1.0226\n",
            "Epoch [28/80], Loss: 0.7578\n",
            "Epoch [29/80], Loss: 0.8191\n",
            "Epoch [30/80], Loss: 0.7580\n",
            "Epoch [31/80], Loss: 0.8116\n",
            "Epoch [32/80], Loss: 0.6853\n",
            "Epoch [33/80], Loss: 0.6305\n",
            "Epoch [34/80], Loss: 0.6296\n",
            "Epoch [35/80], Loss: 0.5123\n",
            "Epoch [36/80], Loss: 0.5961\n",
            "Epoch [37/80], Loss: 0.5292\n",
            "Epoch [38/80], Loss: 0.5486\n",
            "Epoch [39/80], Loss: 0.5124\n",
            "Epoch [40/80], Loss: 0.5023\n",
            "Epoch [41/80], Loss: 0.5108\n",
            "Epoch [42/80], Loss: 0.3764\n",
            "Epoch [43/80], Loss: 0.4780\n",
            "Epoch [44/80], Loss: 0.4084\n",
            "Epoch [45/80], Loss: 0.4235\n",
            "Epoch [46/80], Loss: 0.3181\n",
            "Epoch [47/80], Loss: 0.3179\n",
            "Epoch [48/80], Loss: 0.3414\n",
            "Epoch [49/80], Loss: 0.2962\n",
            "Epoch [50/80], Loss: 0.2755\n",
            "Epoch [51/80], Loss: 0.3007\n",
            "Epoch [52/80], Loss: 0.2424\n",
            "Epoch [53/80], Loss: 0.3012\n",
            "Epoch [54/80], Loss: 0.3324\n",
            "Epoch [55/80], Loss: 0.2496\n",
            "Epoch [56/80], Loss: 0.2104\n",
            "Epoch [57/80], Loss: 0.2162\n",
            "Epoch [58/80], Loss: 0.2102\n",
            "Epoch [59/80], Loss: 0.2293\n",
            "Epoch [60/80], Loss: 0.1742\n",
            "Epoch [61/80], Loss: 0.1443\n",
            "Epoch [62/80], Loss: 0.1283\n",
            "Epoch [63/80], Loss: 0.1279\n",
            "Epoch [64/80], Loss: 0.1687\n",
            "Epoch [65/80], Loss: 0.1545\n",
            "Epoch [66/80], Loss: 0.1420\n",
            "Epoch [67/80], Loss: 0.1250\n",
            "Epoch [68/80], Loss: 0.1415\n",
            "Epoch [69/80], Loss: 0.1126\n",
            "Epoch [70/80], Loss: 0.1453\n",
            "Epoch [71/80], Loss: 0.1159\n",
            "Epoch [72/80], Loss: 0.0955\n",
            "Epoch [73/80], Loss: 0.0875\n",
            "Epoch [74/80], Loss: 0.0994\n",
            "Epoch [75/80], Loss: 0.1034\n",
            "Epoch [76/80], Loss: 0.0966\n",
            "Epoch [77/80], Loss: 0.1127\n",
            "Epoch [78/80], Loss: 0.0933\n",
            "Epoch [79/80], Loss: 0.0765\n",
            "Epoch [80/80], Loss: 0.0787\n",
            "Test Accuracy for Category: 0.8000\n",
            "Test Accuracy for Subcategory: 0.6000\n"
          ]
        },
        {
          "output_type": "display_data",
          "data": {
            "text/plain": [
              "VBox(children=(Label(value='0.001 MB of 0.001 MB uploaded\\r'), FloatProgress(value=1.0, max=1.0)))"
            ],
            "application/vnd.jupyter.widget-view+json": {
              "version_major": 2,
              "version_minor": 0,
              "model_id": "2dc048938f7f4a21a74fc92a69b1530e"
            }
          },
          "metadata": {}
        },
        {
          "output_type": "display_data",
          "data": {
            "text/plain": [
              "<IPython.core.display.HTML object>"
            ],
            "text/html": [
              "<style>\n",
              "    table.wandb td:nth-child(1) { padding: 0 10px; text-align: left ; width: auto;} td:nth-child(2) {text-align: left ; width: 100%}\n",
              "    .wandb-row { display: flex; flex-direction: row; flex-wrap: wrap; justify-content: flex-start; width: 100% }\n",
              "    .wandb-col { display: flex; flex-direction: column; flex-basis: 100%; flex: 1; padding: 10px; }\n",
              "    </style>\n",
              "<div class=\"wandb-row\"><div class=\"wandb-col\"><h3>Run history:</h3><br/><table class=\"wandb\"><tr><td>epoch</td><td>▁▁▁▂▂▂▂▂▂▃▃▃▃▃▃▄▄▄▄▄▅▅▅▅▅▅▆▆▆▆▆▆▇▇▇▇▇███</td></tr><tr><td>loss</td><td>█▇▆▇▆▅▅▅▄▄▄▃▃▃▃▃▂▂▂▂▂▂▂▂▂▂▂▁▁▁▁▁▁▁▁▁▁▁▁▁</td></tr><tr><td>test_accuracy_category</td><td>▁</td></tr><tr><td>test_accuracy_subcategory</td><td>▁</td></tr></table><br/></div><div class=\"wandb-col\"><h3>Run summary:</h3><br/><table class=\"wandb\"><tr><td>epoch</td><td>80</td></tr><tr><td>loss</td><td>0.07873</td></tr><tr><td>test_accuracy_category</td><td>0.8</td></tr><tr><td>test_accuracy_subcategory</td><td>0.6</td></tr></table><br/></div></div>"
            ]
          },
          "metadata": {}
        },
        {
          "output_type": "display_data",
          "data": {
            "text/plain": [
              "<IPython.core.display.HTML object>"
            ],
            "text/html": [
              " View run <strong style=\"color:#cdcd00\">training_run</strong> at: <a href='https://wandb.ai/007anirudhnandakumar/dome_train/runs/fuxc6jpk' target=\"_blank\">https://wandb.ai/007anirudhnandakumar/dome_train/runs/fuxc6jpk</a><br/> View project at: <a href='https://wandb.ai/007anirudhnandakumar/dome_train' target=\"_blank\">https://wandb.ai/007anirudhnandakumar/dome_train</a><br/>Synced 5 W&B file(s), 0 media file(s), 0 artifact file(s) and 0 other file(s)"
            ]
          },
          "metadata": {}
        },
        {
          "output_type": "display_data",
          "data": {
            "text/plain": [
              "<IPython.core.display.HTML object>"
            ],
            "text/html": [
              "Find logs at: <code>./wandb/run-20240627_071230-fuxc6jpk/logs</code>"
            ]
          },
          "metadata": {}
        },
        {
          "output_type": "display_data",
          "data": {
            "text/plain": [
              "<IPython.core.display.HTML object>"
            ],
            "text/html": [
              "The new W&B backend becomes opt-out in version 0.18.0; try it out with `wandb.require(\"core\")`! See https://wandb.me/wandb-core for more information."
            ]
          },
          "metadata": {}
        }
      ]
    },
    {
      "cell_type": "code",
      "execution_count": null,
      "metadata": {
        "id": "wIJUZxoKOuUp"
      },
      "outputs": [],
      "source": [
        "def preprocess_input(description, amount):\n",
        "    # Tokenize the description using BERT tokenizer\n",
        "    inputs = tokenizer(description, padding=True, truncation=True, return_tensors='pt')\n",
        "    with torch.no_grad():\n",
        "        bert_features = bert_model(**inputs).last_hidden_state[:, 0, :]  # CLS token features\n",
        "\n",
        "    # Scale the amount\n",
        "    amount_scaled = scaler.transform([[amount]])\n",
        "    amount_tensor = torch.tensor(amount_scaled, dtype=torch.float32)\n",
        "\n",
        "    # Combine the features\n",
        "    combined_features = torch.cat((amount_tensor, bert_features), dim=1)\n",
        "\n",
        "    return combined_features"
      ]
    },
    {
      "cell_type": "code",
      "execution_count": null,
      "metadata": {
        "colab": {
          "base_uri": "https://localhost:8080/"
        },
        "id": "aJWOoikEPnWR",
        "outputId": "42f7dcb2-b692-40c0-ee35-286132d5455b"
      },
      "outputs": [
        {
          "output_type": "stream",
          "name": "stdout",
          "text": [
            "Prediction: Category - Expenditure, Subcategory - Salary\n"
          ]
        },
        {
          "output_type": "stream",
          "name": "stderr",
          "text": [
            "/usr/local/lib/python3.10/dist-packages/sklearn/base.py:439: UserWarning: X does not have valid feature names, but StandardScaler was fitted with feature names\n",
            "  warnings.warn(\n"
          ]
        }
      ],
      "source": [
        "def predict_category_and_subcategory(model, description, amount):\n",
        "    # Preprocess the input\n",
        "    inputs = preprocess_input(description, amount)\n",
        "\n",
        "    # Make predictions\n",
        "    model.eval()\n",
        "    with torch.no_grad():\n",
        "        category_outputs, subcategory_outputs = model(inputs)\n",
        "        _, predicted_category = torch.max(category_outputs.data, 1)\n",
        "        _, predicted_subcategory = torch.max(subcategory_outputs.data, 1)\n",
        "\n",
        "    # Convert predictions to original labels\n",
        "    predicted_category_label = category_encoder.inverse_transform(predicted_category.numpy())[0]\n",
        "    predicted_subcategory_label = subcategory_encoder.inverse_transform(predicted_subcategory.numpy())[0]\n",
        "\n",
        "    return predicted_category_label, predicted_subcategory_label\n",
        "\n",
        "# Example usage of the user prompt function\n",
        "description = \"Loan\"\n",
        "amount = 50000.0\n",
        "\n",
        "predicted_category, predicted_subcategory = predict_category_and_subcategory(model, description, amount)\n",
        "print(f\"Prediction: Category - {predicted_category}, Subcategory - {predicted_subcategory}\")"
      ]
    },
    {
      "cell_type": "code",
      "execution_count": null,
      "metadata": {
        "colab": {
          "base_uri": "https://localhost:8080/"
        },
        "id": "eCNh31M5pAoP",
        "outputId": "51783230-113b-46ed-d8e4-69ef01c192d6"
      },
      "outputs": [
        {
          "output_type": "stream",
          "name": "stdout",
          "text": [
            "\n",
            "    _|    _|  _|    _|    _|_|_|    _|_|_|  _|_|_|  _|      _|    _|_|_|      _|_|_|_|    _|_|      _|_|_|  _|_|_|_|\n",
            "    _|    _|  _|    _|  _|        _|          _|    _|_|    _|  _|            _|        _|    _|  _|        _|\n",
            "    _|_|_|_|  _|    _|  _|  _|_|  _|  _|_|    _|    _|  _|  _|  _|  _|_|      _|_|_|    _|_|_|_|  _|        _|_|_|\n",
            "    _|    _|  _|    _|  _|    _|  _|    _|    _|    _|    _|_|  _|    _|      _|        _|    _|  _|        _|\n",
            "    _|    _|    _|_|      _|_|_|    _|_|_|  _|_|_|  _|      _|    _|_|_|      _|        _|    _|    _|_|_|  _|_|_|_|\n",
            "\n",
            "    To login, `huggingface_hub` requires a token generated from https://huggingface.co/settings/tokens .\n",
            "Enter your token (input will not be visible): \n",
            "Add token as git credential? (Y/n) n\n",
            "Token is valid (permission: write).\n",
            "Your token has been saved to /root/.cache/huggingface/token\n",
            "Login successful\n"
          ]
        }
      ],
      "source": [
        "!huggingface-cli login"
      ]
    },
    {
      "cell_type": "code",
      "execution_count": null,
      "metadata": {
        "colab": {
          "base_uri": "https://localhost:8080/"
        },
        "id": "QF9aAa_TNmt6",
        "outputId": "29b01a3f-4a0d-4a31-b783-30da170618ed",
        "collapsed": true
      },
      "outputs": [
        {
          "name": "stdout",
          "output_type": "stream",
          "text": [
            "Requirement already satisfied: transformers in /usr/local/lib/python3.10/dist-packages (4.41.2)\n",
            "Requirement already satisfied: filelock in /usr/local/lib/python3.10/dist-packages (from transformers) (3.14.0)\n",
            "Requirement already satisfied: huggingface-hub<1.0,>=0.23.0 in /usr/local/lib/python3.10/dist-packages (from transformers) (0.23.2)\n",
            "Requirement already satisfied: numpy>=1.17 in /usr/local/lib/python3.10/dist-packages (from transformers) (1.25.2)\n",
            "Requirement already satisfied: packaging>=20.0 in /usr/local/lib/python3.10/dist-packages (from transformers) (24.0)\n",
            "Requirement already satisfied: pyyaml>=5.1 in /usr/local/lib/python3.10/dist-packages (from transformers) (6.0.1)\n",
            "Requirement already satisfied: regex!=2019.12.17 in /usr/local/lib/python3.10/dist-packages (from transformers) (2024.5.15)\n",
            "Requirement already satisfied: requests in /usr/local/lib/python3.10/dist-packages (from transformers) (2.31.0)\n",
            "Requirement already satisfied: tokenizers<0.20,>=0.19 in /usr/local/lib/python3.10/dist-packages (from transformers) (0.19.1)\n",
            "Requirement already satisfied: safetensors>=0.4.1 in /usr/local/lib/python3.10/dist-packages (from transformers) (0.4.3)\n",
            "Requirement already satisfied: tqdm>=4.27 in /usr/local/lib/python3.10/dist-packages (from transformers) (4.66.4)\n",
            "Requirement already satisfied: fsspec>=2023.5.0 in /usr/local/lib/python3.10/dist-packages (from huggingface-hub<1.0,>=0.23.0->transformers) (2023.6.0)\n",
            "Requirement already satisfied: typing-extensions>=3.7.4.3 in /usr/local/lib/python3.10/dist-packages (from huggingface-hub<1.0,>=0.23.0->transformers) (4.12.1)\n",
            "Requirement already satisfied: charset-normalizer<4,>=2 in /usr/local/lib/python3.10/dist-packages (from requests->transformers) (3.3.2)\n",
            "Requirement already satisfied: idna<4,>=2.5 in /usr/local/lib/python3.10/dist-packages (from requests->transformers) (3.7)\n",
            "Requirement already satisfied: urllib3<3,>=1.21.1 in /usr/local/lib/python3.10/dist-packages (from requests->transformers) (2.0.7)\n",
            "Requirement already satisfied: certifi>=2017.4.17 in /usr/local/lib/python3.10/dist-packages (from requests->transformers) (2024.6.2)\n"
          ]
        }
      ],
      "source": [
        "!pip install transformers"
      ]
    },
    {
      "cell_type": "code",
      "execution_count": null,
      "metadata": {
        "colab": {
          "base_uri": "https://localhost:8080/"
        },
        "collapsed": true,
        "id": "B6p0a5DMQtFj",
        "outputId": "ec5dc7b8-e072-4770-ebe3-74d8eedaf9e0"
      },
      "outputs": [
        {
          "name": "stdout",
          "output_type": "stream",
          "text": [
            "Requirement already satisfied: huggingface_hub in /usr/local/lib/python3.10/dist-packages (0.23.3)\n",
            "Requirement already satisfied: filelock in /usr/local/lib/python3.10/dist-packages (from huggingface_hub) (3.14.0)\n",
            "Requirement already satisfied: fsspec>=2023.5.0 in /usr/local/lib/python3.10/dist-packages (from huggingface_hub) (2023.6.0)\n",
            "Requirement already satisfied: packaging>=20.9 in /usr/local/lib/python3.10/dist-packages (from huggingface_hub) (24.1)\n",
            "Requirement already satisfied: pyyaml>=5.1 in /usr/local/lib/python3.10/dist-packages (from huggingface_hub) (6.0.1)\n",
            "Requirement already satisfied: requests in /usr/local/lib/python3.10/dist-packages (from huggingface_hub) (2.31.0)\n",
            "Requirement already satisfied: tqdm>=4.42.1 in /usr/local/lib/python3.10/dist-packages (from huggingface_hub) (4.66.4)\n",
            "Requirement already satisfied: typing-extensions>=3.7.4.3 in /usr/local/lib/python3.10/dist-packages (from huggingface_hub) (4.12.2)\n",
            "Requirement already satisfied: charset-normalizer<4,>=2 in /usr/local/lib/python3.10/dist-packages (from requests->huggingface_hub) (3.3.2)\n",
            "Requirement already satisfied: idna<4,>=2.5 in /usr/local/lib/python3.10/dist-packages (from requests->huggingface_hub) (3.7)\n",
            "Requirement already satisfied: urllib3<3,>=1.21.1 in /usr/local/lib/python3.10/dist-packages (from requests->huggingface_hub) (2.0.7)\n",
            "Requirement already satisfied: certifi>=2017.4.17 in /usr/local/lib/python3.10/dist-packages (from requests->huggingface_hub) (2024.6.2)\n"
          ]
        }
      ],
      "source": [
        "!pip install huggingface_hub\n"
      ]
    },
    {
      "cell_type": "code",
      "execution_count": null,
      "metadata": {
        "colab": {
          "base_uri": "https://localhost:8080/",
          "height": 133,
          "referenced_widgets": [
            "822d1cc446cd4153b249026f3db53ebe",
            "bc88052f8f2e4abf92aea93a5d00f64b",
            "e09cd9bd3a9849e5ac60811d0de929f2",
            "890ca04b2bbb4841b2f334bfd432f1ff",
            "ee2130e2e07e44058f262c6393109f3d",
            "5a3c3d6bf30d499b8ff65ec0292fc74d",
            "a083148cfd0b42fe856265643b54109e",
            "15b6ae1656c547a4969fe57e3f7a91b8",
            "ce17f584c5f84e818cb81ed1ee49fe17",
            "8c5475109c664df69f3990fc309ed48d",
            "b93cc30e07cc456e952e013b62ce178d",
            "6ca30d0439af4967a97fea9f5136dc5f",
            "79179dcfd4b242fd9a702ab7aabd35d5",
            "23a236a58ef246308e5d13febf04dbbc",
            "7258b92442dd41a6a69bbbb4448722fc",
            "15c256dad69346afa37383111027d5ef",
            "7a34755934df4e0fab9e835d70453dda",
            "bc657cb800b34bed91247db33f26c9cf",
            "73f768e6a819498d9feb27357fa40146",
            "464e277573754631bdaf43e33be487d2",
            "6f961a09114f4a649d24296d1d4c6a45",
            "93121efcd7784bf299a158b1637a23fa"
          ]
        },
        "id": "mEgsOyyySLWp",
        "outputId": "5b9a720f-3e02-490d-c41a-482745ded2d4"
      },
      "outputs": [
        {
          "data": {
            "application/vnd.jupyter.widget-view+json": {
              "model_id": "822d1cc446cd4153b249026f3db53ebe",
              "version_major": 2,
              "version_minor": 0
            },
            "text/plain": [
              "model.safetensors:   0%|          | 0.00/438M [00:00<?, ?B/s]"
            ]
          },
          "metadata": {},
          "output_type": "display_data"
        },
        {
          "data": {
            "application/vnd.jupyter.widget-view+json": {
              "model_id": "6ca30d0439af4967a97fea9f5136dc5f",
              "version_major": 2,
              "version_minor": 0
            },
            "text/plain": [
              "README.md:   0%|          | 0.00/5.17k [00:00<?, ?B/s]"
            ]
          },
          "metadata": {},
          "output_type": "display_data"
        },
        {
          "data": {
            "application/vnd.google.colaboratory.intrinsic+json": {
              "type": "string"
            },
            "text/plain": [
              "CommitInfo(commit_url='https://huggingface.co/Ani8Face/Category/commit/76ea05f1da321d4b95a93d661761af7e8cfd1776', commit_message='Upload tokenizer', commit_description='', oid='76ea05f1da321d4b95a93d661761af7e8cfd1776', pr_url=None, pr_revision=None, pr_num=None)"
            ]
          },
          "execution_count": 58,
          "metadata": {},
          "output_type": "execute_result"
        }
      ],
      "source": [
        "from transformers import BertTokenizer, BertModel, BertConfig\n",
        "from huggingface_hub import HfApi\n",
        "\n",
        "# Assuming your model is defined as CombinedModel as shown earlier\n",
        "class CombinedModel(BertPreTrainedModel):\n",
        "    def __init__(self, config):\n",
        "        super(CombinedModel, self).__init__(config)\n",
        "        self.bert = BertModel(config)\n",
        "        self.fc1 = nn.Linear(config.hidden_size + 1, 128)\n",
        "        self.fc2 = nn.Linear(128, 64)\n",
        "        self.category_classifier = nn.Linear(64, config.num_labels_category)\n",
        "        self.subcategory_classifier = nn.Linear(64, config.num_labels_subcategory)\n",
        "\n",
        "    def forward(self, input_ids, attention_mask, token_type_ids, amount):\n",
        "        bert_outputs = self.bert(\n",
        "            input_ids=input_ids,\n",
        "            attention_mask=attention_mask,\n",
        "            token_type_ids=token_type_ids\n",
        "        )\n",
        "        cls_token_output = bert_outputs.last_hidden_state[:, 0, :]  # CLS token output\n",
        "        combined_input = torch.cat((cls_token_output, amount.unsqueeze(1)), dim=1)\n",
        "        x = torch.relu(self.fc1(combined_input))\n",
        "        x = torch.relu(self.fc2(x))\n",
        "        category_output = self.category_classifier(x)\n",
        "        subcategory_output = self.subcategory_classifier(x)\n",
        "        return category_output, subcategory_output\n",
        "\n",
        "# Create a config with the necessary number of labels\n",
        "config = BertConfig.from_pretrained('bert-base-uncased')\n",
        "config.num_labels_category = len(category_encoder.classes_)\n",
        "config.num_labels_subcategory = len(subcategory_encoder.classes_)\n",
        "\n",
        "# Initialize the model with the config\n",
        "model = CombinedModel(config)\n",
        "\n",
        "# Save the model and tokenizer to local directories\n",
        "model_name = \"Category\"\n",
        "model_dir = f\"./{model_name}\"\n",
        "tokenizer = BertTokenizer.from_pretrained('bert-base-uncased')\n",
        "\n",
        "model.save_pretrained(model_dir)\n",
        "tokenizer.save_pretrained(model_dir)\n",
        "\n",
        "# Push the model to the hub\n",
        "model.push_to_hub(\"Ani8Face/Category\")\n",
        "tokenizer.push_to_hub(\"Ani8Face/Category\")\n"
      ]
    },
    {
      "cell_type": "markdown",
      "source": [
        "### Application Streamlit"
      ],
      "metadata": {
        "id": "trbcCSmvgzmR"
      }
    },
    {
      "cell_type": "code",
      "execution_count": null,
      "metadata": {
        "colab": {
          "base_uri": "https://localhost:8080/"
        },
        "id": "9NSrSOBcRJx5",
        "outputId": "1cc7bb44-d3de-4741-ac4b-a91a5684ee93"
      },
      "outputs": [
        {
          "output_type": "stream",
          "name": "stdout",
          "text": [
            "Writing app.py\n"
          ]
        }
      ],
      "source": [
        "%%writefile app.py\n",
        "import streamlit as st\n",
        "import pandas as pd\n",
        "import requests\n",
        "from transformers import AutoTokenizer, AutoModelForSequenceClassification, AutoConfig\n",
        "import torch\n",
        "from torch import nn\n",
        "from sklearn.preprocessing import StandardScaler, LabelEncoder\n",
        "import os\n",
        "# Define the CombinedModel class\n",
        "class CombinedModel(nn.Module):\n",
        "    def __init__(self, config, num_labels_category, num_labels_subcategory):\n",
        "        super(CombinedModel, self).__init__()\n",
        "        self.bert = AutoModelForSequenceClassification.from_pretrained(config._name_or_path, config=config)\n",
        "        self.fc1 = nn.Linear(config.hidden_size + 1, 128)\n",
        "        self.fc2 = nn.Linear(128, 64)\n",
        "        self.category_classifier = nn.Linear(64, num_labels_category)\n",
        "        self.subcategory_classifier = nn.Linear(64, num_labels_subcategory)\n",
        "\n",
        "    def forward(self, input_ids, attention_mask, token_type_ids, amount):\n",
        "        bert_outputs = self.bert.bert(\n",
        "            input_ids=input_ids,\n",
        "            attention_mask=attention_mask,\n",
        "            token_type_ids=token_type_ids\n",
        "        )\n",
        "        cls_token_output = bert_outputs.last_hidden_state[:, 0, :]  # CLS token output\n",
        "        combined_input = torch.cat((cls_token_output, amount.unsqueeze(1)), dim=1)\n",
        "        x = torch.relu(self.fc1(combined_input))\n",
        "        x = torch.relu(self.fc2(x))\n",
        "        category_output = self.category_classifier(x)\n",
        "        subcategory_output = self.subcategory_classifier(x)\n",
        "        return category_output, subcategory_output\n",
        "\n",
        "# Load the model and tokenizer from Hugging Face Hub\n",
        "model_name = \"Ani8Face/Category\"\n",
        "tokenizer = AutoTokenizer.from_pretrained(model_name)\n",
        "\n",
        "# Create a config with the necessary number of labels\n",
        "config = AutoConfig.from_pretrained('bert-base-uncased')\n",
        "num_labels_category = 5  # Update with your actual number of categories\n",
        "num_labels_subcategory = 5  # Update with your actual number of subcategories\n",
        "config.num_labels_category = num_labels_category\n",
        "config.num_labels_subcategory = num_labels_subcategory\n",
        "\n",
        "os.makedirs(model_name, exist_ok=True)\n",
        "# Save the model\n",
        "# torch.save(model.state_dict(), f\"{model_name}/pytorch_model.bin\")\n",
        "\n",
        "model = CombinedModel(config=config, num_labels_category=num_labels_category, num_labels_subcategory=num_labels_subcategory)\n",
        "# Load the model weights\n",
        "model_weights_path = f\"{model_name}/pytorch_model.bin\"\n",
        "if os.path.exists(model_weights_path):\n",
        "    model.load_state_dict(torch.load(model_weights_path))\n",
        "else:\n",
        "    st.error(\"Model weights not found. Please ensure the correct path to the model weights.\")\n",
        "\n",
        "\n",
        "# Initialize label encoders and scaler\n",
        "category_encoder = LabelEncoder()\n",
        "subcategory_encoder = LabelEncoder()\n",
        "scaler = StandardScaler()\n",
        "\n",
        "\n",
        "##################################\n",
        "import streamlit as st\n",
        "# Define functions to interact with the Gemini API\n",
        "def call_gemini_api(description, amount):\n",
        "    # Preprocess the input\n",
        "    inputs = tokenizer(description, padding=True, truncation=True, return_tensors='pt')\n",
        "    amount_scaled = scaler.transform([[amount]])\n",
        "\n",
        "    # Call the Gemini API (example URL and parameters)\n",
        "    api_url = \"GOOGLE_API_KEY\"\n",
        "    payload = {\n",
        "        \"model\": model_name,\n",
        "        \"inputs\": {\n",
        "            \"description\": inputs.input_ids.tolist(),\n",
        "            \"amount\": amount_scaled.tolist()\n",
        "        }\n",
        "    }\n",
        "    response = requests.post(api_url, json=payload)\n",
        "\n",
        "    if response.status_code == 200:\n",
        "        result = response.json()\n",
        "        return result['predicted_category'], result['predicted_subcategory']\n",
        "    else:\n",
        "        st.error(\"Error calling Gemini API\")\n",
        "        return None, None\n",
        "\n",
        "# Streamlit app interface\n",
        "st.title(\"Financial Transaction Classifier\")\n",
        "\n",
        "# File upload\n",
        "uploaded_file = st.file_uploader(\"Upload a CSV or Excel file\", type=[\"csv\", \"xlsx\"])\n",
        "if uploaded_file:\n",
        "    if uploaded_file.name.endswith(\".csv\"):\n",
        "        data = pd.read_csv(uploaded_file)\n",
        "    else:\n",
        "        data = pd.read_excel(uploaded_file)\n",
        "\n",
        "    st.write(\"Uploaded Data:\")\n",
        "    st.write(data)\n",
        "\n",
        "    # Assuming 'Description' and 'Amount' columns are present\n",
        "    if 'Description' in data.columns and 'Amount' in data.columns:\n",
        "        descriptions = data['Description'].tolist()\n",
        "        amounts = data['Amount'].tolist()\n",
        "\n",
        "        # Get predictions for the entire dataset\n",
        "        predictions = [call_gemini_api(desc, amt) for desc, amt in zip(descriptions, amounts)]\n",
        "        categories, subcategories = zip(*predictions)\n",
        "\n",
        "        data['Predicted Category'] = categories\n",
        "        data['Predicted Subcategory'] = subcategories\n",
        "\n",
        "        st.write(\"Data with Predictions:\")\n",
        "        st.write(data)\n",
        "\n",
        "        # Balance sheet aggregation\n",
        "        balance_sheet = data.groupby(['Predicted Category', 'Predicted Subcategory']).agg({'Amount': 'sum'}).reset_index()\n",
        "        st.write(\"Balance Sheet:\")\n",
        "        st.write(balance_sheet)\n",
        "\n",
        "# User input prompt\n",
        "description_input = st.text_input(\"Enter a transaction description\")\n",
        "amount_input = st.number_input(\"Enter the transaction amount\", min_value=0.0, format=\"%.2f\")\n",
        "\n",
        "if st.button(\"Predict Category and Subcategory\"):\n",
        "    if description_input and amount_input:\n",
        "        category, subcategory = call_gemini_api(description_input, amount_input)\n",
        "        st.write(f\"Predicted Category: {category}\")\n",
        "        st.write(f\"Predicted Subcategory: {subcategory}\")\n",
        "\n"
      ]
    },
    {
      "cell_type": "code",
      "execution_count": null,
      "metadata": {
        "id": "0zdqTG3r25Jr",
        "colab": {
          "base_uri": "https://localhost:8080/"
        },
        "outputId": "b1a6c8ca-3757-40f3-fb3d-eee572cbebe3"
      },
      "outputs": [
        {
          "output_type": "stream",
          "name": "stdout",
          "text": [
            "\n",
            "Collecting usage statistics. To deactivate, set browser.gatherUsageStats to false.\n",
            "\u001b[0m\n",
            "\u001b[0m\n",
            "\u001b[34m\u001b[1m  You can now view your Streamlit app in your browser.\u001b[0m\n",
            "\u001b[0m\n",
            "\u001b[34m  Local URL: \u001b[0m\u001b[1mhttp://localhost:8501\u001b[0m\n",
            "\u001b[34m  Network URL: \u001b[0m\u001b[1mhttp://172.28.0.12:8501\u001b[0m\n",
            "\u001b[34m  External URL: \u001b[0m\u001b[1mhttp://35.196.117.255:8501\u001b[0m\n",
            "\u001b[0m\n",
            "\u001b[34m  Stopping...\u001b[0m\n",
            "\u001b[34m  Stopping...\u001b[0m\n"
          ]
        }
      ],
      "source": [
        "!streamlit run app.py"
      ]
    },
    {
      "cell_type": "markdown",
      "source": [
        "# Worked below code"
      ],
      "metadata": {
        "id": "7gKzwvrnOdXZ"
      }
    },
    {
      "cell_type": "code",
      "source": [
        "import streamlit as st\n",
        "import pandas as pd\n",
        "from transformers import AutoTokenizer, AutoModelForSequenceClassification, AutoConfig\n",
        "import torch\n",
        "from torch import nn\n",
        "from sklearn.preprocessing import StandardScaler, LabelEncoder\n",
        "from streamlit.web.cli import main as st_main\n",
        "from dotenv import load_dotenv\n",
        "import os\n",
        "import google.generativeai as genai\n",
        "\n",
        "# Load environment variables\n",
        "load_dotenv()\n",
        "genai.configure(api_key=os.getenv(\"GOOGLE_API_KEY\"))\n",
        "\n",
        "# Load Hugging Face model and tokenizer\n",
        "model_name = \"Ani8Face/Category\"\n",
        "tokenizer = AutoTokenizer.from_pretrained(model_name)\n",
        "config = AutoConfig.from_pretrained(model_name)\n",
        "model = AutoModelForSequenceClassification.from_pretrained(model_name, config=config)\n",
        "\n",
        "# Define the model class\n",
        "class CombinedModel(nn.Module):\n",
        "    def __init__(self, config, num_labels_category, num_labels_subcategory):\n",
        "        super(CombinedModel, self).__init__()\n",
        "        self.bert = model  # Load the pre-trained model\n",
        "        self.fc1 = nn.Linear(config.hidden_size + 1, 128)\n",
        "        self.fc2 = nn.Linear(128, 64)\n",
        "        self.category_classifier = nn.Linear(64, num_labels_category)\n",
        "        self.subcategory_classifier = nn.Linear(64, num_labels_subcategory)\n",
        "\n",
        "    def forward(self, input_ids, attention_mask, token_type_ids, amount):\n",
        "        outputs = self.bert(\n",
        "            input_ids=input_ids,\n",
        "            attention_mask=attention_mask,\n",
        "            token_type_ids=token_type_ids\n",
        "        )\n",
        "        cls_token_output = outputs.last_hidden_state[:, 0, :]  # CLS token output\n",
        "        combined_input = torch.cat((cls_token_output, amount.unsqueeze(1)), dim=1)\n",
        "        x = torch.relu(self.fc1(combined_input))\n",
        "        x = torch.relu(self.fc2(x))\n",
        "        category_output = self.category_classifier(x)\n",
        "        subcategory_output = self.subcategory_classifier(x)\n",
        "        return category_output, subcategory_output\n",
        "\n",
        "num_labels_category = 5  # Update with your actual number of categories\n",
        "num_labels_subcategory = 5  # Update with your actual number of subcategories\n",
        "\n",
        "# Initialize the model\n",
        "model = CombinedModel(config=config, num_labels_category=num_labels_category, num_labels_subcategory=num_labels_subcategory)\n",
        "\n",
        "# Initialize label encoders and scaler\n",
        "category_encoder = LabelEncoder()\n",
        "subcategory_encoder = LabelEncoder()\n",
        "\n",
        "# Define function to interact with the Google Generative AI API\n",
        "def call_gemini_api(description, amount, all_amounts):\n",
        "    try:\n",
        "        # Preprocess the input\n",
        "        inputs = tokenizer(description, padding=True, truncation=True, return_tensors='pt')\n",
        "\n",
        "        # Ensure all_amounts is a 2D array\n",
        "        all_amounts_reshaped = [[amt] for amt in all_amounts]\n",
        "        scaler = StandardScaler()\n",
        "        scaler.fit(all_amounts_reshaped)\n",
        "\n",
        "        # Ensure amount is a 2D array\n",
        "        amount_scaled = scaler.transform([[amount]])\n",
        "\n",
        "        # Convert amount_scaled to a string representation\n",
        "        amount_scaled_str = str(amount_scaled[0][0])\n",
        "\n",
        "        # Use a compatible model for text generation\n",
        "        prompt = f\"Transaction description: {description}, Amount: {amount_scaled_str}. Provide the category (e.g., Assets, Expenditure, Liabilities) and subcategory.\"\n",
        "\n",
        "        # Generative AI API call\n",
        "        response = genai.generate_text(prompt=prompt, model=\"models/text-bison-001\")\n",
        "\n",
        "        # Extract the generated text from the response\n",
        "        generated_text = response.result\n",
        "\n",
        "        # Assuming response contains the category and subcategory separated by a comma\n",
        "        return generated_text\n",
        "    except Exception as e:\n",
        "        st.error(f\"Error in calling Gemini API: {e}\")\n",
        "        return \"Unknown, Unknown\"\n",
        "\n",
        "# Streamlit app interface\n",
        "st.title(\"Financial Transaction Classifier\")\n",
        "\n",
        "# File upload\n",
        "uploaded_file = st.file_uploader(\"Upload a CSV or Excel file\", type=[\"csv\", \"xlsx\"])\n",
        "if uploaded_file:\n",
        "    if uploaded_file.name.endswith(\".csv\"):\n",
        "        data = pd.read_csv(uploaded_file)\n",
        "    else:\n",
        "        data = pd.read_excel(uploaded_file)\n",
        "\n",
        "    st.write(\"Uploaded Data:\")\n",
        "    st.write(data)\n",
        "\n",
        "    # Ensure columns exist and handle missing data\n",
        "    if 'Description' in data.columns and 'Amount' in data.columns:\n",
        "        descriptions = data['Description'].tolist()\n",
        "        amounts = data['Amount'].tolist()\n",
        "\n",
        "        # Fit and transform the scaler with the current amounts\n",
        "        all_amounts = [amt for amt in amounts]\n",
        "\n",
        "        # Get predictions for the entire dataset\n",
        "        predictions = [call_gemini_api(desc, amt, all_amounts) for desc, amt in zip(descriptions, amounts)]\n",
        "\n",
        "        # Debugging output for predictions\n",
        "        st.write(\"Predictions:\")\n",
        "        st.write(predictions)\n",
        "\n",
        "        # Handle unexpected responses\n",
        "        categories = []\n",
        "        subcategories = []\n",
        "        for pred in predictions:\n",
        "            try:\n",
        "                category, subcategory = pred.split(',')\n",
        "                categories.append(category.strip())\n",
        "                subcategories.append(subcategory.strip())\n",
        "            except ValueError:\n",
        "                categories.append(\"Unknown\")\n",
        "                subcategories.append(\"Unknown\")\n",
        "\n",
        "        data['Predicted Category'] = categories\n",
        "        data['Predicted Subcategory'] = subcategories\n",
        "\n",
        "        st.write(\"Data with Predictions:\")\n",
        "        st.write(data)\n",
        "\n",
        "        # Balance sheet aggregation\n",
        "        balance_sheet = data.groupby(['Predicted Category', 'Predicted Subcategory']).agg({'Amount': 'sum'}).reset_index()\n",
        "\n",
        "        # Formatting the balance sheet\n",
        "        st.write(\"Balance Sheet:\")\n",
        "        for category in balance_sheet['Predicted Category'].unique():\n",
        "            st.write(f\"### {category}\")\n",
        "            category_data = balance_sheet[balance_sheet['Predicted Category'] == category]\n",
        "            for _, row in category_data.iterrows():\n",
        "                st.write(f\"{row['Predicted Subcategory']}: ${row['Amount']:,.2f}\")\n",
        "            total = category_data['Amount'].sum()\n",
        "            st.write(f\"**Total {category}: ${total:,.2f}**\")\n",
        "\n",
        "# User input prompt\n",
        "description_input = st.text_input(\"Enter a transaction description\")\n",
        "amount_input = st.number_input(\"Enter the transaction amount\", min_value=0.0, format=\"%.2f\")\n",
        "\n",
        "if st.button(\"Predict Category and Subcategory\"):\n",
        "    if description_input and amount_input:\n",
        "        # Fit and transform with a single amount\n",
        "        all_amounts = [amount_input]\n",
        "        pred = call_gemini_api(description_input, amount_input, all_amounts)\n",
        "        try:\n",
        "            category, subcategory = pred.split(',')\n",
        "            st.write(f\"Predicted Category: {category.strip()}\")\n",
        "            st.write(f\"Predicted Subcategory: {subcategory.strip()}\")\n",
        "        except ValueError:\n",
        "            st.write(\"Prediction error: Unable to parse the response\")\n",
        "\n",
        "if __name__ == '__main__':\n",
        "    st_main()"
      ],
      "metadata": {
        "id": "Aq2fFEu7OHjz"
      },
      "execution_count": null,
      "outputs": []
    }
  ],
  "metadata": {
    "colab": {
      "provenance": [],
      "collapsed_sections": [
        "trbcCSmvgzmR",
        "7gKzwvrnOdXZ"
      ],
      "gpuType": "T4",
      "authorship_tag": "ABX9TyMmcEJglwjKUozOeNb7+MNe",
      "include_colab_link": true
    },
    "kernelspec": {
      "display_name": "Python 3",
      "name": "python3"
    },
    "language_info": {
      "name": "python"
    },
    "widgets": {
      "application/vnd.jupyter.widget-state+json": {
        "15b6ae1656c547a4969fe57e3f7a91b8": {
          "model_module": "@jupyter-widgets/base",
          "model_module_version": "1.2.0",
          "model_name": "LayoutModel",
          "state": {
            "_model_module": "@jupyter-widgets/base",
            "_model_module_version": "1.2.0",
            "_model_name": "LayoutModel",
            "_view_count": null,
            "_view_module": "@jupyter-widgets/base",
            "_view_module_version": "1.2.0",
            "_view_name": "LayoutView",
            "align_content": null,
            "align_items": null,
            "align_self": null,
            "border": null,
            "bottom": null,
            "display": null,
            "flex": null,
            "flex_flow": null,
            "grid_area": null,
            "grid_auto_columns": null,
            "grid_auto_flow": null,
            "grid_auto_rows": null,
            "grid_column": null,
            "grid_gap": null,
            "grid_row": null,
            "grid_template_areas": null,
            "grid_template_columns": null,
            "grid_template_rows": null,
            "height": null,
            "justify_content": null,
            "justify_items": null,
            "left": null,
            "margin": null,
            "max_height": null,
            "max_width": null,
            "min_height": null,
            "min_width": null,
            "object_fit": null,
            "object_position": null,
            "order": null,
            "overflow": null,
            "overflow_x": null,
            "overflow_y": null,
            "padding": null,
            "right": null,
            "top": null,
            "visibility": null,
            "width": null
          }
        },
        "15c256dad69346afa37383111027d5ef": {
          "model_module": "@jupyter-widgets/base",
          "model_module_version": "1.2.0",
          "model_name": "LayoutModel",
          "state": {
            "_model_module": "@jupyter-widgets/base",
            "_model_module_version": "1.2.0",
            "_model_name": "LayoutModel",
            "_view_count": null,
            "_view_module": "@jupyter-widgets/base",
            "_view_module_version": "1.2.0",
            "_view_name": "LayoutView",
            "align_content": null,
            "align_items": null,
            "align_self": null,
            "border": null,
            "bottom": null,
            "display": null,
            "flex": null,
            "flex_flow": null,
            "grid_area": null,
            "grid_auto_columns": null,
            "grid_auto_flow": null,
            "grid_auto_rows": null,
            "grid_column": null,
            "grid_gap": null,
            "grid_row": null,
            "grid_template_areas": null,
            "grid_template_columns": null,
            "grid_template_rows": null,
            "height": null,
            "justify_content": null,
            "justify_items": null,
            "left": null,
            "margin": null,
            "max_height": null,
            "max_width": null,
            "min_height": null,
            "min_width": null,
            "object_fit": null,
            "object_position": null,
            "order": null,
            "overflow": null,
            "overflow_x": null,
            "overflow_y": null,
            "padding": null,
            "right": null,
            "top": null,
            "visibility": null,
            "width": null
          }
        },
        "23a236a58ef246308e5d13febf04dbbc": {
          "model_module": "@jupyter-widgets/controls",
          "model_module_version": "1.5.0",
          "model_name": "FloatProgressModel",
          "state": {
            "_dom_classes": [],
            "_model_module": "@jupyter-widgets/controls",
            "_model_module_version": "1.5.0",
            "_model_name": "FloatProgressModel",
            "_view_count": null,
            "_view_module": "@jupyter-widgets/controls",
            "_view_module_version": "1.5.0",
            "_view_name": "ProgressView",
            "bar_style": "success",
            "description": "",
            "description_tooltip": null,
            "layout": "IPY_MODEL_73f768e6a819498d9feb27357fa40146",
            "max": 5174,
            "min": 0,
            "orientation": "horizontal",
            "style": "IPY_MODEL_464e277573754631bdaf43e33be487d2",
            "value": 5174
          }
        },
        "464e277573754631bdaf43e33be487d2": {
          "model_module": "@jupyter-widgets/controls",
          "model_module_version": "1.5.0",
          "model_name": "ProgressStyleModel",
          "state": {
            "_model_module": "@jupyter-widgets/controls",
            "_model_module_version": "1.5.0",
            "_model_name": "ProgressStyleModel",
            "_view_count": null,
            "_view_module": "@jupyter-widgets/base",
            "_view_module_version": "1.2.0",
            "_view_name": "StyleView",
            "bar_color": null,
            "description_width": ""
          }
        },
        "5a3c3d6bf30d499b8ff65ec0292fc74d": {
          "model_module": "@jupyter-widgets/base",
          "model_module_version": "1.2.0",
          "model_name": "LayoutModel",
          "state": {
            "_model_module": "@jupyter-widgets/base",
            "_model_module_version": "1.2.0",
            "_model_name": "LayoutModel",
            "_view_count": null,
            "_view_module": "@jupyter-widgets/base",
            "_view_module_version": "1.2.0",
            "_view_name": "LayoutView",
            "align_content": null,
            "align_items": null,
            "align_self": null,
            "border": null,
            "bottom": null,
            "display": null,
            "flex": null,
            "flex_flow": null,
            "grid_area": null,
            "grid_auto_columns": null,
            "grid_auto_flow": null,
            "grid_auto_rows": null,
            "grid_column": null,
            "grid_gap": null,
            "grid_row": null,
            "grid_template_areas": null,
            "grid_template_columns": null,
            "grid_template_rows": null,
            "height": null,
            "justify_content": null,
            "justify_items": null,
            "left": null,
            "margin": null,
            "max_height": null,
            "max_width": null,
            "min_height": null,
            "min_width": null,
            "object_fit": null,
            "object_position": null,
            "order": null,
            "overflow": null,
            "overflow_x": null,
            "overflow_y": null,
            "padding": null,
            "right": null,
            "top": null,
            "visibility": null,
            "width": null
          }
        },
        "6ca30d0439af4967a97fea9f5136dc5f": {
          "model_module": "@jupyter-widgets/controls",
          "model_module_version": "1.5.0",
          "model_name": "HBoxModel",
          "state": {
            "_dom_classes": [],
            "_model_module": "@jupyter-widgets/controls",
            "_model_module_version": "1.5.0",
            "_model_name": "HBoxModel",
            "_view_count": null,
            "_view_module": "@jupyter-widgets/controls",
            "_view_module_version": "1.5.0",
            "_view_name": "HBoxView",
            "box_style": "",
            "children": [
              "IPY_MODEL_79179dcfd4b242fd9a702ab7aabd35d5",
              "IPY_MODEL_23a236a58ef246308e5d13febf04dbbc",
              "IPY_MODEL_7258b92442dd41a6a69bbbb4448722fc"
            ],
            "layout": "IPY_MODEL_15c256dad69346afa37383111027d5ef"
          }
        },
        "6f961a09114f4a649d24296d1d4c6a45": {
          "model_module": "@jupyter-widgets/base",
          "model_module_version": "1.2.0",
          "model_name": "LayoutModel",
          "state": {
            "_model_module": "@jupyter-widgets/base",
            "_model_module_version": "1.2.0",
            "_model_name": "LayoutModel",
            "_view_count": null,
            "_view_module": "@jupyter-widgets/base",
            "_view_module_version": "1.2.0",
            "_view_name": "LayoutView",
            "align_content": null,
            "align_items": null,
            "align_self": null,
            "border": null,
            "bottom": null,
            "display": null,
            "flex": null,
            "flex_flow": null,
            "grid_area": null,
            "grid_auto_columns": null,
            "grid_auto_flow": null,
            "grid_auto_rows": null,
            "grid_column": null,
            "grid_gap": null,
            "grid_row": null,
            "grid_template_areas": null,
            "grid_template_columns": null,
            "grid_template_rows": null,
            "height": null,
            "justify_content": null,
            "justify_items": null,
            "left": null,
            "margin": null,
            "max_height": null,
            "max_width": null,
            "min_height": null,
            "min_width": null,
            "object_fit": null,
            "object_position": null,
            "order": null,
            "overflow": null,
            "overflow_x": null,
            "overflow_y": null,
            "padding": null,
            "right": null,
            "top": null,
            "visibility": null,
            "width": null
          }
        },
        "7258b92442dd41a6a69bbbb4448722fc": {
          "model_module": "@jupyter-widgets/controls",
          "model_module_version": "1.5.0",
          "model_name": "HTMLModel",
          "state": {
            "_dom_classes": [],
            "_model_module": "@jupyter-widgets/controls",
            "_model_module_version": "1.5.0",
            "_model_name": "HTMLModel",
            "_view_count": null,
            "_view_module": "@jupyter-widgets/controls",
            "_view_module_version": "1.5.0",
            "_view_name": "HTMLView",
            "description": "",
            "description_tooltip": null,
            "layout": "IPY_MODEL_6f961a09114f4a649d24296d1d4c6a45",
            "placeholder": "​",
            "style": "IPY_MODEL_93121efcd7784bf299a158b1637a23fa",
            "value": " 5.17k/5.17k [00:00&lt;00:00, 232kB/s]"
          }
        },
        "73f768e6a819498d9feb27357fa40146": {
          "model_module": "@jupyter-widgets/base",
          "model_module_version": "1.2.0",
          "model_name": "LayoutModel",
          "state": {
            "_model_module": "@jupyter-widgets/base",
            "_model_module_version": "1.2.0",
            "_model_name": "LayoutModel",
            "_view_count": null,
            "_view_module": "@jupyter-widgets/base",
            "_view_module_version": "1.2.0",
            "_view_name": "LayoutView",
            "align_content": null,
            "align_items": null,
            "align_self": null,
            "border": null,
            "bottom": null,
            "display": null,
            "flex": null,
            "flex_flow": null,
            "grid_area": null,
            "grid_auto_columns": null,
            "grid_auto_flow": null,
            "grid_auto_rows": null,
            "grid_column": null,
            "grid_gap": null,
            "grid_row": null,
            "grid_template_areas": null,
            "grid_template_columns": null,
            "grid_template_rows": null,
            "height": null,
            "justify_content": null,
            "justify_items": null,
            "left": null,
            "margin": null,
            "max_height": null,
            "max_width": null,
            "min_height": null,
            "min_width": null,
            "object_fit": null,
            "object_position": null,
            "order": null,
            "overflow": null,
            "overflow_x": null,
            "overflow_y": null,
            "padding": null,
            "right": null,
            "top": null,
            "visibility": null,
            "width": null
          }
        },
        "79179dcfd4b242fd9a702ab7aabd35d5": {
          "model_module": "@jupyter-widgets/controls",
          "model_module_version": "1.5.0",
          "model_name": "HTMLModel",
          "state": {
            "_dom_classes": [],
            "_model_module": "@jupyter-widgets/controls",
            "_model_module_version": "1.5.0",
            "_model_name": "HTMLModel",
            "_view_count": null,
            "_view_module": "@jupyter-widgets/controls",
            "_view_module_version": "1.5.0",
            "_view_name": "HTMLView",
            "description": "",
            "description_tooltip": null,
            "layout": "IPY_MODEL_7a34755934df4e0fab9e835d70453dda",
            "placeholder": "​",
            "style": "IPY_MODEL_bc657cb800b34bed91247db33f26c9cf",
            "value": "README.md: 100%"
          }
        },
        "7a34755934df4e0fab9e835d70453dda": {
          "model_module": "@jupyter-widgets/base",
          "model_module_version": "1.2.0",
          "model_name": "LayoutModel",
          "state": {
            "_model_module": "@jupyter-widgets/base",
            "_model_module_version": "1.2.0",
            "_model_name": "LayoutModel",
            "_view_count": null,
            "_view_module": "@jupyter-widgets/base",
            "_view_module_version": "1.2.0",
            "_view_name": "LayoutView",
            "align_content": null,
            "align_items": null,
            "align_self": null,
            "border": null,
            "bottom": null,
            "display": null,
            "flex": null,
            "flex_flow": null,
            "grid_area": null,
            "grid_auto_columns": null,
            "grid_auto_flow": null,
            "grid_auto_rows": null,
            "grid_column": null,
            "grid_gap": null,
            "grid_row": null,
            "grid_template_areas": null,
            "grid_template_columns": null,
            "grid_template_rows": null,
            "height": null,
            "justify_content": null,
            "justify_items": null,
            "left": null,
            "margin": null,
            "max_height": null,
            "max_width": null,
            "min_height": null,
            "min_width": null,
            "object_fit": null,
            "object_position": null,
            "order": null,
            "overflow": null,
            "overflow_x": null,
            "overflow_y": null,
            "padding": null,
            "right": null,
            "top": null,
            "visibility": null,
            "width": null
          }
        },
        "822d1cc446cd4153b249026f3db53ebe": {
          "model_module": "@jupyter-widgets/controls",
          "model_module_version": "1.5.0",
          "model_name": "HBoxModel",
          "state": {
            "_dom_classes": [],
            "_model_module": "@jupyter-widgets/controls",
            "_model_module_version": "1.5.0",
            "_model_name": "HBoxModel",
            "_view_count": null,
            "_view_module": "@jupyter-widgets/controls",
            "_view_module_version": "1.5.0",
            "_view_name": "HBoxView",
            "box_style": "",
            "children": [
              "IPY_MODEL_bc88052f8f2e4abf92aea93a5d00f64b",
              "IPY_MODEL_e09cd9bd3a9849e5ac60811d0de929f2",
              "IPY_MODEL_890ca04b2bbb4841b2f334bfd432f1ff"
            ],
            "layout": "IPY_MODEL_ee2130e2e07e44058f262c6393109f3d"
          }
        },
        "890ca04b2bbb4841b2f334bfd432f1ff": {
          "model_module": "@jupyter-widgets/controls",
          "model_module_version": "1.5.0",
          "model_name": "HTMLModel",
          "state": {
            "_dom_classes": [],
            "_model_module": "@jupyter-widgets/controls",
            "_model_module_version": "1.5.0",
            "_model_name": "HTMLModel",
            "_view_count": null,
            "_view_module": "@jupyter-widgets/controls",
            "_view_module_version": "1.5.0",
            "_view_name": "HTMLView",
            "description": "",
            "description_tooltip": null,
            "layout": "IPY_MODEL_8c5475109c664df69f3990fc309ed48d",
            "placeholder": "​",
            "style": "IPY_MODEL_b93cc30e07cc456e952e013b62ce178d",
            "value": " 438M/438M [00:12&lt;00:00, 30.3MB/s]"
          }
        },
        "8c5475109c664df69f3990fc309ed48d": {
          "model_module": "@jupyter-widgets/base",
          "model_module_version": "1.2.0",
          "model_name": "LayoutModel",
          "state": {
            "_model_module": "@jupyter-widgets/base",
            "_model_module_version": "1.2.0",
            "_model_name": "LayoutModel",
            "_view_count": null,
            "_view_module": "@jupyter-widgets/base",
            "_view_module_version": "1.2.0",
            "_view_name": "LayoutView",
            "align_content": null,
            "align_items": null,
            "align_self": null,
            "border": null,
            "bottom": null,
            "display": null,
            "flex": null,
            "flex_flow": null,
            "grid_area": null,
            "grid_auto_columns": null,
            "grid_auto_flow": null,
            "grid_auto_rows": null,
            "grid_column": null,
            "grid_gap": null,
            "grid_row": null,
            "grid_template_areas": null,
            "grid_template_columns": null,
            "grid_template_rows": null,
            "height": null,
            "justify_content": null,
            "justify_items": null,
            "left": null,
            "margin": null,
            "max_height": null,
            "max_width": null,
            "min_height": null,
            "min_width": null,
            "object_fit": null,
            "object_position": null,
            "order": null,
            "overflow": null,
            "overflow_x": null,
            "overflow_y": null,
            "padding": null,
            "right": null,
            "top": null,
            "visibility": null,
            "width": null
          }
        },
        "93121efcd7784bf299a158b1637a23fa": {
          "model_module": "@jupyter-widgets/controls",
          "model_module_version": "1.5.0",
          "model_name": "DescriptionStyleModel",
          "state": {
            "_model_module": "@jupyter-widgets/controls",
            "_model_module_version": "1.5.0",
            "_model_name": "DescriptionStyleModel",
            "_view_count": null,
            "_view_module": "@jupyter-widgets/base",
            "_view_module_version": "1.2.0",
            "_view_name": "StyleView",
            "description_width": ""
          }
        },
        "a083148cfd0b42fe856265643b54109e": {
          "model_module": "@jupyter-widgets/controls",
          "model_module_version": "1.5.0",
          "model_name": "DescriptionStyleModel",
          "state": {
            "_model_module": "@jupyter-widgets/controls",
            "_model_module_version": "1.5.0",
            "_model_name": "DescriptionStyleModel",
            "_view_count": null,
            "_view_module": "@jupyter-widgets/base",
            "_view_module_version": "1.2.0",
            "_view_name": "StyleView",
            "description_width": ""
          }
        },
        "b93cc30e07cc456e952e013b62ce178d": {
          "model_module": "@jupyter-widgets/controls",
          "model_module_version": "1.5.0",
          "model_name": "DescriptionStyleModel",
          "state": {
            "_model_module": "@jupyter-widgets/controls",
            "_model_module_version": "1.5.0",
            "_model_name": "DescriptionStyleModel",
            "_view_count": null,
            "_view_module": "@jupyter-widgets/base",
            "_view_module_version": "1.2.0",
            "_view_name": "StyleView",
            "description_width": ""
          }
        },
        "bc657cb800b34bed91247db33f26c9cf": {
          "model_module": "@jupyter-widgets/controls",
          "model_module_version": "1.5.0",
          "model_name": "DescriptionStyleModel",
          "state": {
            "_model_module": "@jupyter-widgets/controls",
            "_model_module_version": "1.5.0",
            "_model_name": "DescriptionStyleModel",
            "_view_count": null,
            "_view_module": "@jupyter-widgets/base",
            "_view_module_version": "1.2.0",
            "_view_name": "StyleView",
            "description_width": ""
          }
        },
        "bc88052f8f2e4abf92aea93a5d00f64b": {
          "model_module": "@jupyter-widgets/controls",
          "model_module_version": "1.5.0",
          "model_name": "HTMLModel",
          "state": {
            "_dom_classes": [],
            "_model_module": "@jupyter-widgets/controls",
            "_model_module_version": "1.5.0",
            "_model_name": "HTMLModel",
            "_view_count": null,
            "_view_module": "@jupyter-widgets/controls",
            "_view_module_version": "1.5.0",
            "_view_name": "HTMLView",
            "description": "",
            "description_tooltip": null,
            "layout": "IPY_MODEL_5a3c3d6bf30d499b8ff65ec0292fc74d",
            "placeholder": "​",
            "style": "IPY_MODEL_a083148cfd0b42fe856265643b54109e",
            "value": "model.safetensors: 100%"
          }
        },
        "ce17f584c5f84e818cb81ed1ee49fe17": {
          "model_module": "@jupyter-widgets/controls",
          "model_module_version": "1.5.0",
          "model_name": "ProgressStyleModel",
          "state": {
            "_model_module": "@jupyter-widgets/controls",
            "_model_module_version": "1.5.0",
            "_model_name": "ProgressStyleModel",
            "_view_count": null,
            "_view_module": "@jupyter-widgets/base",
            "_view_module_version": "1.2.0",
            "_view_name": "StyleView",
            "bar_color": null,
            "description_width": ""
          }
        },
        "e09cd9bd3a9849e5ac60811d0de929f2": {
          "model_module": "@jupyter-widgets/controls",
          "model_module_version": "1.5.0",
          "model_name": "FloatProgressModel",
          "state": {
            "_dom_classes": [],
            "_model_module": "@jupyter-widgets/controls",
            "_model_module_version": "1.5.0",
            "_model_name": "FloatProgressModel",
            "_view_count": null,
            "_view_module": "@jupyter-widgets/controls",
            "_view_module_version": "1.5.0",
            "_view_name": "ProgressView",
            "bar_style": "success",
            "description": "",
            "description_tooltip": null,
            "layout": "IPY_MODEL_15b6ae1656c547a4969fe57e3f7a91b8",
            "max": 438387056,
            "min": 0,
            "orientation": "horizontal",
            "style": "IPY_MODEL_ce17f584c5f84e818cb81ed1ee49fe17",
            "value": 438387056
          }
        },
        "ee2130e2e07e44058f262c6393109f3d": {
          "model_module": "@jupyter-widgets/base",
          "model_module_version": "1.2.0",
          "model_name": "LayoutModel",
          "state": {
            "_model_module": "@jupyter-widgets/base",
            "_model_module_version": "1.2.0",
            "_model_name": "LayoutModel",
            "_view_count": null,
            "_view_module": "@jupyter-widgets/base",
            "_view_module_version": "1.2.0",
            "_view_name": "LayoutView",
            "align_content": null,
            "align_items": null,
            "align_self": null,
            "border": null,
            "bottom": null,
            "display": null,
            "flex": null,
            "flex_flow": null,
            "grid_area": null,
            "grid_auto_columns": null,
            "grid_auto_flow": null,
            "grid_auto_rows": null,
            "grid_column": null,
            "grid_gap": null,
            "grid_row": null,
            "grid_template_areas": null,
            "grid_template_columns": null,
            "grid_template_rows": null,
            "height": null,
            "justify_content": null,
            "justify_items": null,
            "left": null,
            "margin": null,
            "max_height": null,
            "max_width": null,
            "min_height": null,
            "min_width": null,
            "object_fit": null,
            "object_position": null,
            "order": null,
            "overflow": null,
            "overflow_x": null,
            "overflow_y": null,
            "padding": null,
            "right": null,
            "top": null,
            "visibility": null,
            "width": null
          }
        },
        "59333cafd758457cb1669e7ad6f24a55": {
          "model_module": "@jupyter-widgets/controls",
          "model_name": "VBoxModel",
          "model_module_version": "1.5.0",
          "state": {
            "_dom_classes": [],
            "_model_module": "@jupyter-widgets/controls",
            "_model_module_version": "1.5.0",
            "_model_name": "VBoxModel",
            "_view_count": null,
            "_view_module": "@jupyter-widgets/controls",
            "_view_module_version": "1.5.0",
            "_view_name": "VBoxView",
            "box_style": "",
            "children": [
              "IPY_MODEL_1fe90e5e570540f287794eaee3855b87",
              "IPY_MODEL_f36a42baec034d7f8ddb55217075fc4d"
            ],
            "layout": "IPY_MODEL_e51a210ced9241b4b40a3bd6788786a6"
          }
        },
        "1fe90e5e570540f287794eaee3855b87": {
          "model_module": "@jupyter-widgets/controls",
          "model_name": "LabelModel",
          "model_module_version": "1.5.0",
          "state": {
            "_dom_classes": [],
            "_model_module": "@jupyter-widgets/controls",
            "_model_module_version": "1.5.0",
            "_model_name": "LabelModel",
            "_view_count": null,
            "_view_module": "@jupyter-widgets/controls",
            "_view_module_version": "1.5.0",
            "_view_name": "LabelView",
            "description": "",
            "description_tooltip": null,
            "layout": "IPY_MODEL_347ee86348ce4ec1bd887cc499b07b36",
            "placeholder": "​",
            "style": "IPY_MODEL_a86fd192b62a4c68adf7b4f72f837915",
            "value": "0.014 MB of 0.014 MB uploaded\r"
          }
        },
        "f36a42baec034d7f8ddb55217075fc4d": {
          "model_module": "@jupyter-widgets/controls",
          "model_name": "FloatProgressModel",
          "model_module_version": "1.5.0",
          "state": {
            "_dom_classes": [],
            "_model_module": "@jupyter-widgets/controls",
            "_model_module_version": "1.5.0",
            "_model_name": "FloatProgressModel",
            "_view_count": null,
            "_view_module": "@jupyter-widgets/controls",
            "_view_module_version": "1.5.0",
            "_view_name": "ProgressView",
            "bar_style": "",
            "description": "",
            "description_tooltip": null,
            "layout": "IPY_MODEL_94838d0ad13848829fb083f97fe07ea1",
            "max": 1,
            "min": 0,
            "orientation": "horizontal",
            "style": "IPY_MODEL_75f25832a03446a7b3105df3a3faf2c1",
            "value": 1
          }
        },
        "e51a210ced9241b4b40a3bd6788786a6": {
          "model_module": "@jupyter-widgets/base",
          "model_name": "LayoutModel",
          "model_module_version": "1.2.0",
          "state": {
            "_model_module": "@jupyter-widgets/base",
            "_model_module_version": "1.2.0",
            "_model_name": "LayoutModel",
            "_view_count": null,
            "_view_module": "@jupyter-widgets/base",
            "_view_module_version": "1.2.0",
            "_view_name": "LayoutView",
            "align_content": null,
            "align_items": null,
            "align_self": null,
            "border": null,
            "bottom": null,
            "display": null,
            "flex": null,
            "flex_flow": null,
            "grid_area": null,
            "grid_auto_columns": null,
            "grid_auto_flow": null,
            "grid_auto_rows": null,
            "grid_column": null,
            "grid_gap": null,
            "grid_row": null,
            "grid_template_areas": null,
            "grid_template_columns": null,
            "grid_template_rows": null,
            "height": null,
            "justify_content": null,
            "justify_items": null,
            "left": null,
            "margin": null,
            "max_height": null,
            "max_width": null,
            "min_height": null,
            "min_width": null,
            "object_fit": null,
            "object_position": null,
            "order": null,
            "overflow": null,
            "overflow_x": null,
            "overflow_y": null,
            "padding": null,
            "right": null,
            "top": null,
            "visibility": null,
            "width": null
          }
        },
        "347ee86348ce4ec1bd887cc499b07b36": {
          "model_module": "@jupyter-widgets/base",
          "model_name": "LayoutModel",
          "model_module_version": "1.2.0",
          "state": {
            "_model_module": "@jupyter-widgets/base",
            "_model_module_version": "1.2.0",
            "_model_name": "LayoutModel",
            "_view_count": null,
            "_view_module": "@jupyter-widgets/base",
            "_view_module_version": "1.2.0",
            "_view_name": "LayoutView",
            "align_content": null,
            "align_items": null,
            "align_self": null,
            "border": null,
            "bottom": null,
            "display": null,
            "flex": null,
            "flex_flow": null,
            "grid_area": null,
            "grid_auto_columns": null,
            "grid_auto_flow": null,
            "grid_auto_rows": null,
            "grid_column": null,
            "grid_gap": null,
            "grid_row": null,
            "grid_template_areas": null,
            "grid_template_columns": null,
            "grid_template_rows": null,
            "height": null,
            "justify_content": null,
            "justify_items": null,
            "left": null,
            "margin": null,
            "max_height": null,
            "max_width": null,
            "min_height": null,
            "min_width": null,
            "object_fit": null,
            "object_position": null,
            "order": null,
            "overflow": null,
            "overflow_x": null,
            "overflow_y": null,
            "padding": null,
            "right": null,
            "top": null,
            "visibility": null,
            "width": null
          }
        },
        "a86fd192b62a4c68adf7b4f72f837915": {
          "model_module": "@jupyter-widgets/controls",
          "model_name": "DescriptionStyleModel",
          "model_module_version": "1.5.0",
          "state": {
            "_model_module": "@jupyter-widgets/controls",
            "_model_module_version": "1.5.0",
            "_model_name": "DescriptionStyleModel",
            "_view_count": null,
            "_view_module": "@jupyter-widgets/base",
            "_view_module_version": "1.2.0",
            "_view_name": "StyleView",
            "description_width": ""
          }
        },
        "94838d0ad13848829fb083f97fe07ea1": {
          "model_module": "@jupyter-widgets/base",
          "model_name": "LayoutModel",
          "model_module_version": "1.2.0",
          "state": {
            "_model_module": "@jupyter-widgets/base",
            "_model_module_version": "1.2.0",
            "_model_name": "LayoutModel",
            "_view_count": null,
            "_view_module": "@jupyter-widgets/base",
            "_view_module_version": "1.2.0",
            "_view_name": "LayoutView",
            "align_content": null,
            "align_items": null,
            "align_self": null,
            "border": null,
            "bottom": null,
            "display": null,
            "flex": null,
            "flex_flow": null,
            "grid_area": null,
            "grid_auto_columns": null,
            "grid_auto_flow": null,
            "grid_auto_rows": null,
            "grid_column": null,
            "grid_gap": null,
            "grid_row": null,
            "grid_template_areas": null,
            "grid_template_columns": null,
            "grid_template_rows": null,
            "height": null,
            "justify_content": null,
            "justify_items": null,
            "left": null,
            "margin": null,
            "max_height": null,
            "max_width": null,
            "min_height": null,
            "min_width": null,
            "object_fit": null,
            "object_position": null,
            "order": null,
            "overflow": null,
            "overflow_x": null,
            "overflow_y": null,
            "padding": null,
            "right": null,
            "top": null,
            "visibility": null,
            "width": null
          }
        },
        "75f25832a03446a7b3105df3a3faf2c1": {
          "model_module": "@jupyter-widgets/controls",
          "model_name": "ProgressStyleModel",
          "model_module_version": "1.5.0",
          "state": {
            "_model_module": "@jupyter-widgets/controls",
            "_model_module_version": "1.5.0",
            "_model_name": "ProgressStyleModel",
            "_view_count": null,
            "_view_module": "@jupyter-widgets/base",
            "_view_module_version": "1.2.0",
            "_view_name": "StyleView",
            "bar_color": null,
            "description_width": ""
          }
        },
        "2dc048938f7f4a21a74fc92a69b1530e": {
          "model_module": "@jupyter-widgets/controls",
          "model_name": "VBoxModel",
          "model_module_version": "1.5.0",
          "state": {
            "_dom_classes": [],
            "_model_module": "@jupyter-widgets/controls",
            "_model_module_version": "1.5.0",
            "_model_name": "VBoxModel",
            "_view_count": null,
            "_view_module": "@jupyter-widgets/controls",
            "_view_module_version": "1.5.0",
            "_view_name": "VBoxView",
            "box_style": "",
            "children": [
              "IPY_MODEL_56cdcf2c20dc475e96b707d4ba408a0e",
              "IPY_MODEL_4dc733bd4fee419eacf63673275d939a"
            ],
            "layout": "IPY_MODEL_471e899ac6764d61bb9722b85a12a9da"
          }
        },
        "56cdcf2c20dc475e96b707d4ba408a0e": {
          "model_module": "@jupyter-widgets/controls",
          "model_name": "LabelModel",
          "model_module_version": "1.5.0",
          "state": {
            "_dom_classes": [],
            "_model_module": "@jupyter-widgets/controls",
            "_model_module_version": "1.5.0",
            "_model_name": "LabelModel",
            "_view_count": null,
            "_view_module": "@jupyter-widgets/controls",
            "_view_module_version": "1.5.0",
            "_view_name": "LabelView",
            "description": "",
            "description_tooltip": null,
            "layout": "IPY_MODEL_ad2040cf33704d71afe5b1ad6aa1d800",
            "placeholder": "​",
            "style": "IPY_MODEL_25ed5808c30345bfabc8ab5148aeb8e7",
            "value": "0.013 MB of 0.013 MB uploaded\r"
          }
        },
        "4dc733bd4fee419eacf63673275d939a": {
          "model_module": "@jupyter-widgets/controls",
          "model_name": "FloatProgressModel",
          "model_module_version": "1.5.0",
          "state": {
            "_dom_classes": [],
            "_model_module": "@jupyter-widgets/controls",
            "_model_module_version": "1.5.0",
            "_model_name": "FloatProgressModel",
            "_view_count": null,
            "_view_module": "@jupyter-widgets/controls",
            "_view_module_version": "1.5.0",
            "_view_name": "ProgressView",
            "bar_style": "",
            "description": "",
            "description_tooltip": null,
            "layout": "IPY_MODEL_eba56b7a3cc14dd9a9af99555ef40ea3",
            "max": 1,
            "min": 0,
            "orientation": "horizontal",
            "style": "IPY_MODEL_0755588fe04841629e9a9bdccb387c3e",
            "value": 1
          }
        },
        "471e899ac6764d61bb9722b85a12a9da": {
          "model_module": "@jupyter-widgets/base",
          "model_name": "LayoutModel",
          "model_module_version": "1.2.0",
          "state": {
            "_model_module": "@jupyter-widgets/base",
            "_model_module_version": "1.2.0",
            "_model_name": "LayoutModel",
            "_view_count": null,
            "_view_module": "@jupyter-widgets/base",
            "_view_module_version": "1.2.0",
            "_view_name": "LayoutView",
            "align_content": null,
            "align_items": null,
            "align_self": null,
            "border": null,
            "bottom": null,
            "display": null,
            "flex": null,
            "flex_flow": null,
            "grid_area": null,
            "grid_auto_columns": null,
            "grid_auto_flow": null,
            "grid_auto_rows": null,
            "grid_column": null,
            "grid_gap": null,
            "grid_row": null,
            "grid_template_areas": null,
            "grid_template_columns": null,
            "grid_template_rows": null,
            "height": null,
            "justify_content": null,
            "justify_items": null,
            "left": null,
            "margin": null,
            "max_height": null,
            "max_width": null,
            "min_height": null,
            "min_width": null,
            "object_fit": null,
            "object_position": null,
            "order": null,
            "overflow": null,
            "overflow_x": null,
            "overflow_y": null,
            "padding": null,
            "right": null,
            "top": null,
            "visibility": null,
            "width": null
          }
        },
        "ad2040cf33704d71afe5b1ad6aa1d800": {
          "model_module": "@jupyter-widgets/base",
          "model_name": "LayoutModel",
          "model_module_version": "1.2.0",
          "state": {
            "_model_module": "@jupyter-widgets/base",
            "_model_module_version": "1.2.0",
            "_model_name": "LayoutModel",
            "_view_count": null,
            "_view_module": "@jupyter-widgets/base",
            "_view_module_version": "1.2.0",
            "_view_name": "LayoutView",
            "align_content": null,
            "align_items": null,
            "align_self": null,
            "border": null,
            "bottom": null,
            "display": null,
            "flex": null,
            "flex_flow": null,
            "grid_area": null,
            "grid_auto_columns": null,
            "grid_auto_flow": null,
            "grid_auto_rows": null,
            "grid_column": null,
            "grid_gap": null,
            "grid_row": null,
            "grid_template_areas": null,
            "grid_template_columns": null,
            "grid_template_rows": null,
            "height": null,
            "justify_content": null,
            "justify_items": null,
            "left": null,
            "margin": null,
            "max_height": null,
            "max_width": null,
            "min_height": null,
            "min_width": null,
            "object_fit": null,
            "object_position": null,
            "order": null,
            "overflow": null,
            "overflow_x": null,
            "overflow_y": null,
            "padding": null,
            "right": null,
            "top": null,
            "visibility": null,
            "width": null
          }
        },
        "25ed5808c30345bfabc8ab5148aeb8e7": {
          "model_module": "@jupyter-widgets/controls",
          "model_name": "DescriptionStyleModel",
          "model_module_version": "1.5.0",
          "state": {
            "_model_module": "@jupyter-widgets/controls",
            "_model_module_version": "1.5.0",
            "_model_name": "DescriptionStyleModel",
            "_view_count": null,
            "_view_module": "@jupyter-widgets/base",
            "_view_module_version": "1.2.0",
            "_view_name": "StyleView",
            "description_width": ""
          }
        },
        "eba56b7a3cc14dd9a9af99555ef40ea3": {
          "model_module": "@jupyter-widgets/base",
          "model_name": "LayoutModel",
          "model_module_version": "1.2.0",
          "state": {
            "_model_module": "@jupyter-widgets/base",
            "_model_module_version": "1.2.0",
            "_model_name": "LayoutModel",
            "_view_count": null,
            "_view_module": "@jupyter-widgets/base",
            "_view_module_version": "1.2.0",
            "_view_name": "LayoutView",
            "align_content": null,
            "align_items": null,
            "align_self": null,
            "border": null,
            "bottom": null,
            "display": null,
            "flex": null,
            "flex_flow": null,
            "grid_area": null,
            "grid_auto_columns": null,
            "grid_auto_flow": null,
            "grid_auto_rows": null,
            "grid_column": null,
            "grid_gap": null,
            "grid_row": null,
            "grid_template_areas": null,
            "grid_template_columns": null,
            "grid_template_rows": null,
            "height": null,
            "justify_content": null,
            "justify_items": null,
            "left": null,
            "margin": null,
            "max_height": null,
            "max_width": null,
            "min_height": null,
            "min_width": null,
            "object_fit": null,
            "object_position": null,
            "order": null,
            "overflow": null,
            "overflow_x": null,
            "overflow_y": null,
            "padding": null,
            "right": null,
            "top": null,
            "visibility": null,
            "width": null
          }
        },
        "0755588fe04841629e9a9bdccb387c3e": {
          "model_module": "@jupyter-widgets/controls",
          "model_name": "ProgressStyleModel",
          "model_module_version": "1.5.0",
          "state": {
            "_model_module": "@jupyter-widgets/controls",
            "_model_module_version": "1.5.0",
            "_model_name": "ProgressStyleModel",
            "_view_count": null,
            "_view_module": "@jupyter-widgets/base",
            "_view_module_version": "1.2.0",
            "_view_name": "StyleView",
            "bar_color": null,
            "description_width": ""
          }
        }
      }
    },
    "accelerator": "GPU"
  },
  "nbformat": 4,
  "nbformat_minor": 0
}